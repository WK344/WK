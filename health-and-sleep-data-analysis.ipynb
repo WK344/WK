{
 "cells": [
  {
   "cell_type": "code",
   "execution_count": 1,
   "id": "7e844744",
   "metadata": {
    "_cell_guid": "b1076dfc-b9ad-4769-8c92-a6c4dae69d19",
    "_uuid": "8f2839f25d086af736a60e9eeb907d3b93b6e0e5",
    "execution": {
     "iopub.execute_input": "2024-11-26T04:41:42.458223Z",
     "iopub.status.busy": "2024-11-26T04:41:42.457818Z",
     "iopub.status.idle": "2024-11-26T04:41:43.452682Z",
     "shell.execute_reply": "2024-11-26T04:41:43.451321Z"
    },
    "papermill": {
     "duration": 1.010486,
     "end_time": "2024-11-26T04:41:43.455015",
     "exception": false,
     "start_time": "2024-11-26T04:41:42.444529",
     "status": "completed"
    },
    "tags": []
   },
   "outputs": [
    {
     "name": "stdout",
     "output_type": "stream",
     "text": [
      "/kaggle/input/health-and-sleep-statistics/Health_Sleep_Statistics.csv\n"
     ]
    }
   ],
   "source": [
    "# This Python 3 environment comes with many helpful analytics libraries installed\n",
    "# It is defined by the kaggle/python Docker image: https://github.com/kaggle/docker-python\n",
    "# For example, here's several helpful packages to load\n",
    "\n",
    "import numpy as np # linear algebra\n",
    "import pandas as pd # data processing, CSV file I/O (e.g. pd.read_csv)\n",
    "\n",
    "# Input data files are available in the read-only \"../input/\" directory\n",
    "# For example, running this (by clicking run or pressing Shift+Enter) will list all files under the input directory\n",
    "\n",
    "import os\n",
    "for dirname, _, filenames in os.walk('/kaggle/input'):\n",
    "    for filename in filenames:\n",
    "        print(os.path.join(dirname, filename))\n",
    "\n",
    "# You can write up to 20GB to the current directory (/kaggle/working/) that gets preserved as output when you create a version using \"Save & Run All\" \n",
    "# You can also write temporary files to /kaggle/temp/, but they won't be saved outside of the current session"
   ]
  },
  {
   "cell_type": "code",
   "execution_count": 2,
   "id": "03d32b9d",
   "metadata": {
    "execution": {
     "iopub.execute_input": "2024-11-26T04:41:43.479829Z",
     "iopub.status.busy": "2024-11-26T04:41:43.479285Z",
     "iopub.status.idle": "2024-11-26T04:41:45.657051Z",
     "shell.execute_reply": "2024-11-26T04:41:45.655903Z"
    },
    "papermill": {
     "duration": 2.19336,
     "end_time": "2024-11-26T04:41:45.659533",
     "exception": false,
     "start_time": "2024-11-26T04:41:43.466173",
     "status": "completed"
    },
    "tags": []
   },
   "outputs": [],
   "source": [
    "import numpy as np \n",
    "import pandas as pd\n",
    "import matplotlib.pyplot as plt\n",
    "import seaborn as sns\n",
    "from sklearn.linear_model import LinearRegression\n",
    "from sklearn.metrics import r2_score\n",
    "import matplotlib.pyplot as plt\n",
    "import seaborn as sns"
   ]
  },
  {
   "cell_type": "code",
   "execution_count": 3,
   "id": "8fefce06",
   "metadata": {
    "execution": {
     "iopub.execute_input": "2024-11-26T04:41:45.684627Z",
     "iopub.status.busy": "2024-11-26T04:41:45.684048Z",
     "iopub.status.idle": "2024-11-26T04:41:45.705107Z",
     "shell.execute_reply": "2024-11-26T04:41:45.704004Z"
    },
    "papermill": {
     "duration": 0.036696,
     "end_time": "2024-11-26T04:41:45.707518",
     "exception": false,
     "start_time": "2024-11-26T04:41:45.670822",
     "status": "completed"
    },
    "tags": []
   },
   "outputs": [],
   "source": [
    "df = pd.read_csv(\"/kaggle/input/health-and-sleep-statistics/Health_Sleep_Statistics.csv\")"
   ]
  },
  {
   "cell_type": "code",
   "execution_count": 4,
   "id": "ff71d686",
   "metadata": {
    "execution": {
     "iopub.execute_input": "2024-11-26T04:41:45.731374Z",
     "iopub.status.busy": "2024-11-26T04:41:45.730985Z",
     "iopub.status.idle": "2024-11-26T04:41:45.753469Z",
     "shell.execute_reply": "2024-11-26T04:41:45.752406Z"
    },
    "papermill": {
     "duration": 0.037018,
     "end_time": "2024-11-26T04:41:45.755849",
     "exception": false,
     "start_time": "2024-11-26T04:41:45.718831",
     "status": "completed"
    },
    "tags": []
   },
   "outputs": [
    {
     "data": {
      "text/html": [
       "<div>\n",
       "<style scoped>\n",
       "    .dataframe tbody tr th:only-of-type {\n",
       "        vertical-align: middle;\n",
       "    }\n",
       "\n",
       "    .dataframe tbody tr th {\n",
       "        vertical-align: top;\n",
       "    }\n",
       "\n",
       "    .dataframe thead th {\n",
       "        text-align: right;\n",
       "    }\n",
       "</style>\n",
       "<table border=\"1\" class=\"dataframe\">\n",
       "  <thead>\n",
       "    <tr style=\"text-align: right;\">\n",
       "      <th></th>\n",
       "      <th>User ID</th>\n",
       "      <th>Age</th>\n",
       "      <th>Gender</th>\n",
       "      <th>Sleep Quality</th>\n",
       "      <th>Bedtime</th>\n",
       "      <th>Wake-up Time</th>\n",
       "      <th>Daily Steps</th>\n",
       "      <th>Calories Burned</th>\n",
       "      <th>Physical Activity Level</th>\n",
       "      <th>Dietary Habits</th>\n",
       "      <th>Sleep Disorders</th>\n",
       "      <th>Medication Usage</th>\n",
       "    </tr>\n",
       "  </thead>\n",
       "  <tbody>\n",
       "    <tr>\n",
       "      <th>0</th>\n",
       "      <td>1</td>\n",
       "      <td>25</td>\n",
       "      <td>f</td>\n",
       "      <td>8</td>\n",
       "      <td>23:00</td>\n",
       "      <td>06:30</td>\n",
       "      <td>8000</td>\n",
       "      <td>2500</td>\n",
       "      <td>medium</td>\n",
       "      <td>healthy</td>\n",
       "      <td>no</td>\n",
       "      <td>no</td>\n",
       "    </tr>\n",
       "    <tr>\n",
       "      <th>1</th>\n",
       "      <td>2</td>\n",
       "      <td>34</td>\n",
       "      <td>m</td>\n",
       "      <td>7</td>\n",
       "      <td>00:30</td>\n",
       "      <td>07:00</td>\n",
       "      <td>5000</td>\n",
       "      <td>2200</td>\n",
       "      <td>low</td>\n",
       "      <td>unhealthy</td>\n",
       "      <td>yes</td>\n",
       "      <td>yes</td>\n",
       "    </tr>\n",
       "    <tr>\n",
       "      <th>2</th>\n",
       "      <td>3</td>\n",
       "      <td>29</td>\n",
       "      <td>f</td>\n",
       "      <td>9</td>\n",
       "      <td>22:45</td>\n",
       "      <td>06:45</td>\n",
       "      <td>9000</td>\n",
       "      <td>2700</td>\n",
       "      <td>high</td>\n",
       "      <td>healthy</td>\n",
       "      <td>no</td>\n",
       "      <td>no</td>\n",
       "    </tr>\n",
       "    <tr>\n",
       "      <th>3</th>\n",
       "      <td>4</td>\n",
       "      <td>41</td>\n",
       "      <td>m</td>\n",
       "      <td>5</td>\n",
       "      <td>01:00</td>\n",
       "      <td>06:30</td>\n",
       "      <td>4000</td>\n",
       "      <td>2100</td>\n",
       "      <td>low</td>\n",
       "      <td>unhealthy</td>\n",
       "      <td>yes</td>\n",
       "      <td>no</td>\n",
       "    </tr>\n",
       "    <tr>\n",
       "      <th>4</th>\n",
       "      <td>5</td>\n",
       "      <td>22</td>\n",
       "      <td>f</td>\n",
       "      <td>8</td>\n",
       "      <td>23:30</td>\n",
       "      <td>07:00</td>\n",
       "      <td>10000</td>\n",
       "      <td>2800</td>\n",
       "      <td>high</td>\n",
       "      <td>medium</td>\n",
       "      <td>no</td>\n",
       "      <td>no</td>\n",
       "    </tr>\n",
       "  </tbody>\n",
       "</table>\n",
       "</div>"
      ],
      "text/plain": [
       "   User ID  Age Gender  Sleep Quality Bedtime Wake-up Time  Daily Steps  \\\n",
       "0        1   25      f              8   23:00        06:30         8000   \n",
       "1        2   34      m              7   00:30        07:00         5000   \n",
       "2        3   29      f              9   22:45        06:45         9000   \n",
       "3        4   41      m              5   01:00        06:30         4000   \n",
       "4        5   22      f              8   23:30        07:00        10000   \n",
       "\n",
       "   Calories Burned Physical Activity Level Dietary Habits Sleep Disorders  \\\n",
       "0             2500                  medium        healthy              no   \n",
       "1             2200                     low      unhealthy             yes   \n",
       "2             2700                    high        healthy              no   \n",
       "3             2100                     low      unhealthy             yes   \n",
       "4             2800                    high         medium              no   \n",
       "\n",
       "  Medication Usage  \n",
       "0               no  \n",
       "1              yes  \n",
       "2               no  \n",
       "3               no  \n",
       "4               no  "
      ]
     },
     "execution_count": 4,
     "metadata": {},
     "output_type": "execute_result"
    }
   ],
   "source": [
    "df.head()"
   ]
  },
  {
   "cell_type": "code",
   "execution_count": 5,
   "id": "8baa2257",
   "metadata": {
    "execution": {
     "iopub.execute_input": "2024-11-26T04:41:45.781100Z",
     "iopub.status.busy": "2024-11-26T04:41:45.780092Z",
     "iopub.status.idle": "2024-11-26T04:41:45.795515Z",
     "shell.execute_reply": "2024-11-26T04:41:45.794396Z"
    },
    "papermill": {
     "duration": 0.030906,
     "end_time": "2024-11-26T04:41:45.797892",
     "exception": false,
     "start_time": "2024-11-26T04:41:45.766986",
     "status": "completed"
    },
    "tags": []
   },
   "outputs": [
    {
     "data": {
      "text/html": [
       "<div>\n",
       "<style scoped>\n",
       "    .dataframe tbody tr th:only-of-type {\n",
       "        vertical-align: middle;\n",
       "    }\n",
       "\n",
       "    .dataframe tbody tr th {\n",
       "        vertical-align: top;\n",
       "    }\n",
       "\n",
       "    .dataframe thead th {\n",
       "        text-align: right;\n",
       "    }\n",
       "</style>\n",
       "<table border=\"1\" class=\"dataframe\">\n",
       "  <thead>\n",
       "    <tr style=\"text-align: right;\">\n",
       "      <th></th>\n",
       "      <th>User ID</th>\n",
       "      <th>Age</th>\n",
       "      <th>Gender</th>\n",
       "      <th>Sleep Quality</th>\n",
       "      <th>Bedtime</th>\n",
       "      <th>Wake-up Time</th>\n",
       "      <th>Daily Steps</th>\n",
       "      <th>Calories Burned</th>\n",
       "      <th>Physical Activity Level</th>\n",
       "      <th>Dietary Habits</th>\n",
       "      <th>Sleep Disorders</th>\n",
       "      <th>Medication Usage</th>\n",
       "    </tr>\n",
       "  </thead>\n",
       "  <tbody>\n",
       "    <tr>\n",
       "      <th>95</th>\n",
       "      <td>96</td>\n",
       "      <td>43</td>\n",
       "      <td>m</td>\n",
       "      <td>7</td>\n",
       "      <td>00:45</td>\n",
       "      <td>07:15</td>\n",
       "      <td>6500</td>\n",
       "      <td>2400</td>\n",
       "      <td>medium</td>\n",
       "      <td>medium</td>\n",
       "      <td>no</td>\n",
       "      <td>no</td>\n",
       "    </tr>\n",
       "    <tr>\n",
       "      <th>96</th>\n",
       "      <td>97</td>\n",
       "      <td>33</td>\n",
       "      <td>f</td>\n",
       "      <td>8</td>\n",
       "      <td>23:15</td>\n",
       "      <td>06:15</td>\n",
       "      <td>8500</td>\n",
       "      <td>2600</td>\n",
       "      <td>high</td>\n",
       "      <td>medium</td>\n",
       "      <td>no</td>\n",
       "      <td>no</td>\n",
       "    </tr>\n",
       "    <tr>\n",
       "      <th>97</th>\n",
       "      <td>98</td>\n",
       "      <td>46</td>\n",
       "      <td>m</td>\n",
       "      <td>4</td>\n",
       "      <td>01:30</td>\n",
       "      <td>07:00</td>\n",
       "      <td>3000</td>\n",
       "      <td>2000</td>\n",
       "      <td>low</td>\n",
       "      <td>unhealthy</td>\n",
       "      <td>yes</td>\n",
       "      <td>yes</td>\n",
       "    </tr>\n",
       "    <tr>\n",
       "      <th>98</th>\n",
       "      <td>99</td>\n",
       "      <td>25</td>\n",
       "      <td>f</td>\n",
       "      <td>9</td>\n",
       "      <td>22:15</td>\n",
       "      <td>06:45</td>\n",
       "      <td>9500</td>\n",
       "      <td>2700</td>\n",
       "      <td>high</td>\n",
       "      <td>healthy</td>\n",
       "      <td>no</td>\n",
       "      <td>no</td>\n",
       "    </tr>\n",
       "    <tr>\n",
       "      <th>99</th>\n",
       "      <td>100</td>\n",
       "      <td>41</td>\n",
       "      <td>m</td>\n",
       "      <td>6</td>\n",
       "      <td>00:30</td>\n",
       "      <td>07:00</td>\n",
       "      <td>5000</td>\n",
       "      <td>2200</td>\n",
       "      <td>medium</td>\n",
       "      <td>unhealthy</td>\n",
       "      <td>no</td>\n",
       "      <td>no</td>\n",
       "    </tr>\n",
       "  </tbody>\n",
       "</table>\n",
       "</div>"
      ],
      "text/plain": [
       "    User ID  Age Gender  Sleep Quality Bedtime Wake-up Time  Daily Steps  \\\n",
       "95       96   43      m              7   00:45        07:15         6500   \n",
       "96       97   33      f              8   23:15        06:15         8500   \n",
       "97       98   46      m              4   01:30        07:00         3000   \n",
       "98       99   25      f              9   22:15        06:45         9500   \n",
       "99      100   41      m              6   00:30        07:00         5000   \n",
       "\n",
       "    Calories Burned Physical Activity Level Dietary Habits Sleep Disorders  \\\n",
       "95             2400                  medium         medium              no   \n",
       "96             2600                    high         medium              no   \n",
       "97             2000                     low      unhealthy             yes   \n",
       "98             2700                    high        healthy              no   \n",
       "99             2200                  medium      unhealthy              no   \n",
       "\n",
       "   Medication Usage  \n",
       "95               no  \n",
       "96               no  \n",
       "97              yes  \n",
       "98               no  \n",
       "99               no  "
      ]
     },
     "execution_count": 5,
     "metadata": {},
     "output_type": "execute_result"
    }
   ],
   "source": [
    "df.tail()"
   ]
  },
  {
   "cell_type": "code",
   "execution_count": 6,
   "id": "310a7e23",
   "metadata": {
    "execution": {
     "iopub.execute_input": "2024-11-26T04:41:45.823937Z",
     "iopub.status.busy": "2024-11-26T04:41:45.823524Z",
     "iopub.status.idle": "2024-11-26T04:41:45.830667Z",
     "shell.execute_reply": "2024-11-26T04:41:45.829342Z"
    },
    "papermill": {
     "duration": 0.022696,
     "end_time": "2024-11-26T04:41:45.832773",
     "exception": false,
     "start_time": "2024-11-26T04:41:45.810077",
     "status": "completed"
    },
    "tags": []
   },
   "outputs": [
    {
     "data": {
      "text/plain": [
       "(100, 12)"
      ]
     },
     "execution_count": 6,
     "metadata": {},
     "output_type": "execute_result"
    }
   ],
   "source": [
    "df.shape"
   ]
  },
  {
   "cell_type": "code",
   "execution_count": 7,
   "id": "35529526",
   "metadata": {
    "execution": {
     "iopub.execute_input": "2024-11-26T04:41:45.858651Z",
     "iopub.status.busy": "2024-11-26T04:41:45.858094Z",
     "iopub.status.idle": "2024-11-26T04:41:45.888864Z",
     "shell.execute_reply": "2024-11-26T04:41:45.887691Z"
    },
    "papermill": {
     "duration": 0.04742,
     "end_time": "2024-11-26T04:41:45.892282",
     "exception": false,
     "start_time": "2024-11-26T04:41:45.844862",
     "status": "completed"
    },
    "tags": []
   },
   "outputs": [
    {
     "name": "stdout",
     "output_type": "stream",
     "text": [
      "<class 'pandas.core.frame.DataFrame'>\n",
      "RangeIndex: 100 entries, 0 to 99\n",
      "Data columns (total 12 columns):\n",
      " #   Column                   Non-Null Count  Dtype \n",
      "---  ------                   --------------  ----- \n",
      " 0   User ID                  100 non-null    int64 \n",
      " 1   Age                      100 non-null    int64 \n",
      " 2   Gender                   100 non-null    object\n",
      " 3   Sleep Quality            100 non-null    int64 \n",
      " 4   Bedtime                  100 non-null    object\n",
      " 5   Wake-up Time             100 non-null    object\n",
      " 6   Daily Steps              100 non-null    int64 \n",
      " 7   Calories Burned          100 non-null    int64 \n",
      " 8   Physical Activity Level  100 non-null    object\n",
      " 9   Dietary Habits           100 non-null    object\n",
      " 10  Sleep Disorders          100 non-null    object\n",
      " 11  Medication Usage         100 non-null    object\n",
      "dtypes: int64(5), object(7)\n",
      "memory usage: 9.5+ KB\n"
     ]
    }
   ],
   "source": [
    "df.info()"
   ]
  },
  {
   "cell_type": "code",
   "execution_count": 8,
   "id": "cf7ef695",
   "metadata": {
    "execution": {
     "iopub.execute_input": "2024-11-26T04:41:45.919039Z",
     "iopub.status.busy": "2024-11-26T04:41:45.918596Z",
     "iopub.status.idle": "2024-11-26T04:41:45.947262Z",
     "shell.execute_reply": "2024-11-26T04:41:45.946240Z"
    },
    "papermill": {
     "duration": 0.044944,
     "end_time": "2024-11-26T04:41:45.949495",
     "exception": false,
     "start_time": "2024-11-26T04:41:45.904551",
     "status": "completed"
    },
    "tags": []
   },
   "outputs": [
    {
     "data": {
      "text/html": [
       "<div>\n",
       "<style scoped>\n",
       "    .dataframe tbody tr th:only-of-type {\n",
       "        vertical-align: middle;\n",
       "    }\n",
       "\n",
       "    .dataframe tbody tr th {\n",
       "        vertical-align: top;\n",
       "    }\n",
       "\n",
       "    .dataframe thead th {\n",
       "        text-align: right;\n",
       "    }\n",
       "</style>\n",
       "<table border=\"1\" class=\"dataframe\">\n",
       "  <thead>\n",
       "    <tr style=\"text-align: right;\">\n",
       "      <th></th>\n",
       "      <th>User ID</th>\n",
       "      <th>Age</th>\n",
       "      <th>Sleep Quality</th>\n",
       "      <th>Daily Steps</th>\n",
       "      <th>Calories Burned</th>\n",
       "    </tr>\n",
       "  </thead>\n",
       "  <tbody>\n",
       "    <tr>\n",
       "      <th>count</th>\n",
       "      <td>100.000000</td>\n",
       "      <td>100.000000</td>\n",
       "      <td>100.000000</td>\n",
       "      <td>100.000000</td>\n",
       "      <td>100.00000</td>\n",
       "    </tr>\n",
       "    <tr>\n",
       "      <th>mean</th>\n",
       "      <td>50.500000</td>\n",
       "      <td>36.010000</td>\n",
       "      <td>7.000000</td>\n",
       "      <td>6830.000000</td>\n",
       "      <td>2421.00000</td>\n",
       "    </tr>\n",
       "    <tr>\n",
       "      <th>std</th>\n",
       "      <td>29.011492</td>\n",
       "      <td>8.454865</td>\n",
       "      <td>1.734964</td>\n",
       "      <td>2498.706736</td>\n",
       "      <td>281.06759</td>\n",
       "    </tr>\n",
       "    <tr>\n",
       "      <th>min</th>\n",
       "      <td>1.000000</td>\n",
       "      <td>22.000000</td>\n",
       "      <td>4.000000</td>\n",
       "      <td>3000.000000</td>\n",
       "      <td>2000.00000</td>\n",
       "    </tr>\n",
       "    <tr>\n",
       "      <th>25%</th>\n",
       "      <td>25.750000</td>\n",
       "      <td>28.750000</td>\n",
       "      <td>5.750000</td>\n",
       "      <td>4750.000000</td>\n",
       "      <td>2175.00000</td>\n",
       "    </tr>\n",
       "    <tr>\n",
       "      <th>50%</th>\n",
       "      <td>50.500000</td>\n",
       "      <td>35.000000</td>\n",
       "      <td>7.500000</td>\n",
       "      <td>6750.000000</td>\n",
       "      <td>2400.00000</td>\n",
       "    </tr>\n",
       "    <tr>\n",
       "      <th>75%</th>\n",
       "      <td>75.250000</td>\n",
       "      <td>44.000000</td>\n",
       "      <td>8.250000</td>\n",
       "      <td>9000.000000</td>\n",
       "      <td>2700.00000</td>\n",
       "    </tr>\n",
       "    <tr>\n",
       "      <th>max</th>\n",
       "      <td>100.000000</td>\n",
       "      <td>50.000000</td>\n",
       "      <td>9.000000</td>\n",
       "      <td>11000.000000</td>\n",
       "      <td>2900.00000</td>\n",
       "    </tr>\n",
       "  </tbody>\n",
       "</table>\n",
       "</div>"
      ],
      "text/plain": [
       "          User ID         Age  Sleep Quality   Daily Steps  Calories Burned\n",
       "count  100.000000  100.000000     100.000000    100.000000        100.00000\n",
       "mean    50.500000   36.010000       7.000000   6830.000000       2421.00000\n",
       "std     29.011492    8.454865       1.734964   2498.706736        281.06759\n",
       "min      1.000000   22.000000       4.000000   3000.000000       2000.00000\n",
       "25%     25.750000   28.750000       5.750000   4750.000000       2175.00000\n",
       "50%     50.500000   35.000000       7.500000   6750.000000       2400.00000\n",
       "75%     75.250000   44.000000       8.250000   9000.000000       2700.00000\n",
       "max    100.000000   50.000000       9.000000  11000.000000       2900.00000"
      ]
     },
     "execution_count": 8,
     "metadata": {},
     "output_type": "execute_result"
    }
   ],
   "source": [
    "df.describe()"
   ]
  },
  {
   "cell_type": "code",
   "execution_count": 9,
   "id": "488ae4e5",
   "metadata": {
    "execution": {
     "iopub.execute_input": "2024-11-26T04:41:45.982696Z",
     "iopub.status.busy": "2024-11-26T04:41:45.981955Z",
     "iopub.status.idle": "2024-11-26T04:41:45.991538Z",
     "shell.execute_reply": "2024-11-26T04:41:45.990209Z"
    },
    "papermill": {
     "duration": 0.032803,
     "end_time": "2024-11-26T04:41:45.994409",
     "exception": false,
     "start_time": "2024-11-26T04:41:45.961606",
     "status": "completed"
    },
    "tags": []
   },
   "outputs": [
    {
     "data": {
      "text/plain": [
       "User ID                    0\n",
       "Age                        0\n",
       "Gender                     0\n",
       "Sleep Quality              0\n",
       "Bedtime                    0\n",
       "Wake-up Time               0\n",
       "Daily Steps                0\n",
       "Calories Burned            0\n",
       "Physical Activity Level    0\n",
       "Dietary Habits             0\n",
       "Sleep Disorders            0\n",
       "Medication Usage           0\n",
       "dtype: int64"
      ]
     },
     "execution_count": 9,
     "metadata": {},
     "output_type": "execute_result"
    }
   ],
   "source": [
    "df.isna().sum()"
   ]
  },
  {
   "cell_type": "code",
   "execution_count": 10,
   "id": "f3732da9",
   "metadata": {
    "execution": {
     "iopub.execute_input": "2024-11-26T04:41:46.026300Z",
     "iopub.status.busy": "2024-11-26T04:41:46.025024Z",
     "iopub.status.idle": "2024-11-26T04:41:46.036103Z",
     "shell.execute_reply": "2024-11-26T04:41:46.034786Z"
    },
    "papermill": {
     "duration": 0.026852,
     "end_time": "2024-11-26T04:41:46.038596",
     "exception": false,
     "start_time": "2024-11-26T04:41:46.011744",
     "status": "completed"
    },
    "tags": []
   },
   "outputs": [
    {
     "data": {
      "text/plain": [
       "0"
      ]
     },
     "execution_count": 10,
     "metadata": {},
     "output_type": "execute_result"
    }
   ],
   "source": [
    "df.duplicated().sum()"
   ]
  },
  {
   "cell_type": "code",
   "execution_count": 11,
   "id": "12a91f75",
   "metadata": {
    "execution": {
     "iopub.execute_input": "2024-11-26T04:41:46.070797Z",
     "iopub.status.busy": "2024-11-26T04:41:46.070373Z",
     "iopub.status.idle": "2024-11-26T04:41:46.078354Z",
     "shell.execute_reply": "2024-11-26T04:41:46.077118Z"
    },
    "papermill": {
     "duration": 0.024163,
     "end_time": "2024-11-26T04:41:46.080409",
     "exception": false,
     "start_time": "2024-11-26T04:41:46.056246",
     "status": "completed"
    },
    "tags": []
   },
   "outputs": [],
   "source": [
    "df.drop([\"User ID\"], axis = 1, inplace = True)"
   ]
  },
  {
   "cell_type": "code",
   "execution_count": 12,
   "id": "552917cf",
   "metadata": {
    "execution": {
     "iopub.execute_input": "2024-11-26T04:41:46.106866Z",
     "iopub.status.busy": "2024-11-26T04:41:46.106311Z",
     "iopub.status.idle": "2024-11-26T04:41:46.125223Z",
     "shell.execute_reply": "2024-11-26T04:41:46.124030Z"
    },
    "papermill": {
     "duration": 0.03527,
     "end_time": "2024-11-26T04:41:46.128158",
     "exception": false,
     "start_time": "2024-11-26T04:41:46.092888",
     "status": "completed"
    },
    "tags": []
   },
   "outputs": [
    {
     "data": {
      "text/html": [
       "<div>\n",
       "<style scoped>\n",
       "    .dataframe tbody tr th:only-of-type {\n",
       "        vertical-align: middle;\n",
       "    }\n",
       "\n",
       "    .dataframe tbody tr th {\n",
       "        vertical-align: top;\n",
       "    }\n",
       "\n",
       "    .dataframe thead th {\n",
       "        text-align: right;\n",
       "    }\n",
       "</style>\n",
       "<table border=\"1\" class=\"dataframe\">\n",
       "  <thead>\n",
       "    <tr style=\"text-align: right;\">\n",
       "      <th></th>\n",
       "      <th>Age</th>\n",
       "      <th>Gender</th>\n",
       "      <th>Sleep Quality</th>\n",
       "      <th>Bedtime</th>\n",
       "      <th>Wake-up Time</th>\n",
       "      <th>Daily Steps</th>\n",
       "      <th>Calories Burned</th>\n",
       "      <th>Physical Activity Level</th>\n",
       "      <th>Dietary Habits</th>\n",
       "      <th>Sleep Disorders</th>\n",
       "      <th>Medication Usage</th>\n",
       "    </tr>\n",
       "  </thead>\n",
       "  <tbody>\n",
       "    <tr>\n",
       "      <th>0</th>\n",
       "      <td>25</td>\n",
       "      <td>f</td>\n",
       "      <td>8</td>\n",
       "      <td>23:00</td>\n",
       "      <td>06:30</td>\n",
       "      <td>8000</td>\n",
       "      <td>2500</td>\n",
       "      <td>medium</td>\n",
       "      <td>healthy</td>\n",
       "      <td>no</td>\n",
       "      <td>no</td>\n",
       "    </tr>\n",
       "    <tr>\n",
       "      <th>1</th>\n",
       "      <td>34</td>\n",
       "      <td>m</td>\n",
       "      <td>7</td>\n",
       "      <td>00:30</td>\n",
       "      <td>07:00</td>\n",
       "      <td>5000</td>\n",
       "      <td>2200</td>\n",
       "      <td>low</td>\n",
       "      <td>unhealthy</td>\n",
       "      <td>yes</td>\n",
       "      <td>yes</td>\n",
       "    </tr>\n",
       "    <tr>\n",
       "      <th>2</th>\n",
       "      <td>29</td>\n",
       "      <td>f</td>\n",
       "      <td>9</td>\n",
       "      <td>22:45</td>\n",
       "      <td>06:45</td>\n",
       "      <td>9000</td>\n",
       "      <td>2700</td>\n",
       "      <td>high</td>\n",
       "      <td>healthy</td>\n",
       "      <td>no</td>\n",
       "      <td>no</td>\n",
       "    </tr>\n",
       "    <tr>\n",
       "      <th>3</th>\n",
       "      <td>41</td>\n",
       "      <td>m</td>\n",
       "      <td>5</td>\n",
       "      <td>01:00</td>\n",
       "      <td>06:30</td>\n",
       "      <td>4000</td>\n",
       "      <td>2100</td>\n",
       "      <td>low</td>\n",
       "      <td>unhealthy</td>\n",
       "      <td>yes</td>\n",
       "      <td>no</td>\n",
       "    </tr>\n",
       "    <tr>\n",
       "      <th>4</th>\n",
       "      <td>22</td>\n",
       "      <td>f</td>\n",
       "      <td>8</td>\n",
       "      <td>23:30</td>\n",
       "      <td>07:00</td>\n",
       "      <td>10000</td>\n",
       "      <td>2800</td>\n",
       "      <td>high</td>\n",
       "      <td>medium</td>\n",
       "      <td>no</td>\n",
       "      <td>no</td>\n",
       "    </tr>\n",
       "  </tbody>\n",
       "</table>\n",
       "</div>"
      ],
      "text/plain": [
       "   Age Gender  Sleep Quality Bedtime Wake-up Time  Daily Steps  \\\n",
       "0   25      f              8   23:00        06:30         8000   \n",
       "1   34      m              7   00:30        07:00         5000   \n",
       "2   29      f              9   22:45        06:45         9000   \n",
       "3   41      m              5   01:00        06:30         4000   \n",
       "4   22      f              8   23:30        07:00        10000   \n",
       "\n",
       "   Calories Burned Physical Activity Level Dietary Habits Sleep Disorders  \\\n",
       "0             2500                  medium        healthy              no   \n",
       "1             2200                     low      unhealthy             yes   \n",
       "2             2700                    high        healthy              no   \n",
       "3             2100                     low      unhealthy             yes   \n",
       "4             2800                    high         medium              no   \n",
       "\n",
       "  Medication Usage  \n",
       "0               no  \n",
       "1              yes  \n",
       "2               no  \n",
       "3               no  \n",
       "4               no  "
      ]
     },
     "execution_count": 12,
     "metadata": {},
     "output_type": "execute_result"
    }
   ],
   "source": [
    "df.head()"
   ]
  },
  {
   "cell_type": "markdown",
   "id": "a5998e2b",
   "metadata": {
    "papermill": {
     "duration": 0.011746,
     "end_time": "2024-11-26T04:41:46.152246",
     "exception": false,
     "start_time": "2024-11-26T04:41:46.140500",
     "status": "completed"
    },
    "tags": []
   },
   "source": [
    "# Age vs Sleep Qulaity Correlation"
   ]
  },
  {
   "cell_type": "code",
   "execution_count": 13,
   "id": "15c00fa0",
   "metadata": {
    "execution": {
     "iopub.execute_input": "2024-11-26T04:41:46.186094Z",
     "iopub.status.busy": "2024-11-26T04:41:46.185667Z",
     "iopub.status.idle": "2024-11-26T04:41:46.197399Z",
     "shell.execute_reply": "2024-11-26T04:41:46.196175Z"
    },
    "papermill": {
     "duration": 0.02913,
     "end_time": "2024-11-26T04:41:46.199689",
     "exception": false,
     "start_time": "2024-11-26T04:41:46.170559",
     "status": "completed"
    },
    "tags": []
   },
   "outputs": [
    {
     "name": "stdout",
     "output_type": "stream",
     "text": [
      "                    Age  Sleep Quality\n",
      "Age            1.000000      -0.848356\n",
      "Sleep Quality -0.848356       1.000000\n"
     ]
    }
   ],
   "source": [
    "Age_Sleep_Quality_corr = df[[\"Age\", \"Sleep Quality\"]].corr()\n",
    "print(Age_Sleep_Quality_corr)"
   ]
  },
  {
   "cell_type": "code",
   "execution_count": 14,
   "id": "6b85092b",
   "metadata": {
    "execution": {
     "iopub.execute_input": "2024-11-26T04:41:46.225509Z",
     "iopub.status.busy": "2024-11-26T04:41:46.225127Z",
     "iopub.status.idle": "2024-11-26T04:41:46.233238Z",
     "shell.execute_reply": "2024-11-26T04:41:46.232057Z"
    },
    "papermill": {
     "duration": 0.023622,
     "end_time": "2024-11-26T04:41:46.235514",
     "exception": false,
     "start_time": "2024-11-26T04:41:46.211892",
     "status": "completed"
    },
    "tags": []
   },
   "outputs": [
    {
     "data": {
      "text/plain": [
       "Age              1.000000\n",
       "Sleep Quality   -0.848356\n",
       "Name: Age, dtype: float64"
      ]
     },
     "execution_count": 14,
     "metadata": {},
     "output_type": "execute_result"
    }
   ],
   "source": [
    "Age_Sleep_Quality_corr[\"Age\"]"
   ]
  },
  {
   "cell_type": "markdown",
   "id": "c46a199c",
   "metadata": {
    "papermill": {
     "duration": 0.012079,
     "end_time": "2024-11-26T04:41:46.260318",
     "exception": false,
     "start_time": "2024-11-26T04:41:46.248239",
     "status": "completed"
    },
    "tags": []
   },
   "source": [
    "# creating plot"
   ]
  },
  {
   "cell_type": "code",
   "execution_count": 15,
   "id": "c54470ae",
   "metadata": {
    "execution": {
     "iopub.execute_input": "2024-11-26T04:41:46.288081Z",
     "iopub.status.busy": "2024-11-26T04:41:46.286883Z",
     "iopub.status.idle": "2024-11-26T04:41:47.275674Z",
     "shell.execute_reply": "2024-11-26T04:41:47.274322Z"
    },
    "papermill": {
     "duration": 1.005357,
     "end_time": "2024-11-26T04:41:47.278049",
     "exception": false,
     "start_time": "2024-11-26T04:41:46.272692",
     "status": "completed"
    },
    "tags": []
   },
   "outputs": [
    {
     "data": {
      "image/png": "[encoded data removed]",
      "text/plain": [
       "<Figure size 1200x600 with 1 Axes>"
      ]
     },
     "metadata": {},
     "output_type": "display_data"
    }
   ],
   "source": [
    "plt.figure(figsize = (12,6))\n",
    "sns.barplot(x = \"Age\", y = \"Sleep Quality\" , data = df)\n",
    "plt.title(\"Age vs Sleep Quality\")\n",
    "plt.xlabel(\"Age\")\n",
    "plt.ylabel(\"Sleep Quality\")\n",
    "plt.show()"
   ]
  },
  {
   "attachments": {},
   "cell_type": "markdown",
   "id": "51caed55",
   "metadata": {
    "papermill": {
     "duration": 0.012255,
     "end_time": "2024-11-26T04:41:47.302999",
     "exception": false,
     "start_time": "2024-11-26T04:41:47.290744",
     "status": "completed"
    },
    "tags": []
   },
   "source": [
    "# Creating linear relationship\n",
    "\n",
    "\n"
   ]
  },
  {
   "cell_type": "code",
   "execution_count": 16,
   "id": "2d37c40b",
   "metadata": {
    "execution": {
     "iopub.execute_input": "2024-11-26T04:41:47.331630Z",
     "iopub.status.busy": "2024-11-26T04:41:47.330586Z",
     "iopub.status.idle": "2024-11-26T04:41:47.356716Z",
     "shell.execute_reply": "2024-11-26T04:41:47.355691Z"
    },
    "papermill": {
     "duration": 0.042497,
     "end_time": "2024-11-26T04:41:47.359280",
     "exception": false,
     "start_time": "2024-11-26T04:41:47.316783",
     "status": "completed"
    },
    "tags": []
   },
   "outputs": [
    {
     "data": {
      "text/html": [
       "<style>#sk-container-id-1 {color: black;background-color: white;}#sk-container-id-1 pre{padding: 0;}#sk-container-id-1 div.sk-toggleable {background-color: white;}#sk-container-id-1 label.sk-toggleable__label {cursor: pointer;display: block;width: 100%;margin-bottom: 0;padding: 0.3em;box-sizing: border-box;text-align: center;}#sk-container-id-1 label.sk-toggleable__label-arrow:before {content: \"▸\";float: left;margin-right: 0.25em;color: #696969;}#sk-container-id-1 label.sk-toggleable__label-arrow:hover:before {color: black;}#sk-container-id-1 div.sk-estimator:hover label.sk-toggleable__label-arrow:before {color: black;}#sk-container-id-1 div.sk-toggleable__content {max-height: 0;max-width: 0;overflow: hidden;text-align: left;background-color: #f0f8ff;}#sk-container-id-1 div.sk-toggleable__content pre {margin: 0.2em;color: black;border-radius: 0.25em;background-color: #f0f8ff;}#sk-container-id-1 input.sk-toggleable__control:checked~div.sk-toggleable__content {max-height: 200px;max-width: 100%;overflow: auto;}#sk-container-id-1 input.sk-toggleable__control:checked~label.sk-toggleable__label-arrow:before {content: \"▾\";}#sk-container-id-1 div.sk-estimator input.sk-toggleable__control:checked~label.sk-toggleable__label {background-color: #d4ebff;}#sk-container-id-1 div.sk-label input.sk-toggleable__control:checked~label.sk-toggleable__label {background-color: #d4ebff;}#sk-container-id-1 input.sk-hidden--visually {border: 0;clip: rect(1px 1px 1px 1px);clip: rect(1px, 1px, 1px, 1px);height: 1px;margin: -1px;overflow: hidden;padding: 0;position: absolute;width: 1px;}#sk-container-id-1 div.sk-estimator {font-family: monospace;background-color: #f0f8ff;border: 1px dotted black;border-radius: 0.25em;box-sizing: border-box;margin-bottom: 0.5em;}#sk-container-id-1 div.sk-estimator:hover {background-color: #d4ebff;}#sk-container-id-1 div.sk-parallel-item::after {content: \"\";width: 100%;border-bottom: 1px solid gray;flex-grow: 1;}#sk-container-id-1 div.sk-label:hover label.sk-toggleable__label {background-color: #d4ebff;}#sk-container-id-1 div.sk-serial::before {content: \"\";position: absolute;border-left: 1px solid gray;box-sizing: border-box;top: 0;bottom: 0;left: 50%;z-index: 0;}#sk-container-id-1 div.sk-serial {display: flex;flex-direction: column;align-items: center;background-color: white;padding-right: 0.2em;padding-left: 0.2em;position: relative;}#sk-container-id-1 div.sk-item {position: relative;z-index: 1;}#sk-container-id-1 div.sk-parallel {display: flex;align-items: stretch;justify-content: center;background-color: white;position: relative;}#sk-container-id-1 div.sk-item::before, #sk-container-id-1 div.sk-parallel-item::before {content: \"\";position: absolute;border-left: 1px solid gray;box-sizing: border-box;top: 0;bottom: 0;left: 50%;z-index: -1;}#sk-container-id-1 div.sk-parallel-item {display: flex;flex-direction: column;z-index: 1;position: relative;background-color: white;}#sk-container-id-1 div.sk-parallel-item:first-child::after {align-self: flex-end;width: 50%;}#sk-container-id-1 div.sk-parallel-item:last-child::after {align-self: flex-start;width: 50%;}#sk-container-id-1 div.sk-parallel-item:only-child::after {width: 0;}#sk-container-id-1 div.sk-dashed-wrapped {border: 1px dashed gray;margin: 0 0.4em 0.5em 0.4em;box-sizing: border-box;padding-bottom: 0.4em;background-color: white;}#sk-container-id-1 div.sk-label label {font-family: monospace;font-weight: bold;display: inline-block;line-height: 1.2em;}#sk-container-id-1 div.sk-label-container {text-align: center;}#sk-container-id-1 div.sk-container {/* jupyter's `normalize.less` sets `[hidden] { display: none; }` but bootstrap.min.css set `[hidden] { display: none !important; }` so we also need the `!important` here to be able to override the default hidden behavior on the sphinx rendered scikit-learn.org. See: https://github.com/scikit-learn/scikit-learn/issues/21755 */display: inline-block !important;position: relative;}#sk-container-id-1 div.sk-text-repr-fallback {display: none;}</style><div id=\"sk-container-id-1\" class=\"sk-top-container\"><div class=\"sk-text-repr-fallback\"><pre>LinearRegression()</pre><b>In a Jupyter environment, please rerun this cell to show the HTML representation or trust the notebook. <br />On GitHub, the HTML representation is unable to render, please try loading this page with nbviewer.org.</b></div><div class=\"sk-container\" hidden><div class=\"sk-item\"><div class=\"sk-estimator sk-toggleable\"><input class=\"sk-toggleable__control sk-hidden--visually\" id=\"sk-estimator-id-1\" type=\"checkbox\" checked><label for=\"sk-estimator-id-1\" class=\"sk-toggleable__label sk-toggleable__label-arrow\">LinearRegression</label><div class=\"sk-toggleable__content\"><pre>LinearRegression()</pre></div></div></div></div></div>"
      ],
      "text/plain": [
       "LinearRegression()"
      ]
     },
     "execution_count": 16,
     "metadata": {},
     "output_type": "execute_result"
    }
   ],
   "source": [
    "X = df[['Age']]\n",
    "Y = df['Sleep Quality']\n",
    "\n",
    "model = LinearRegression()\n",
    "\n",
    "model.fit(X, Y)"
   ]
  },
  {
   "cell_type": "code",
   "execution_count": 17,
   "id": "772f2fb8",
   "metadata": {
    "execution": {
     "iopub.execute_input": "2024-11-26T04:41:47.403131Z",
     "iopub.status.busy": "2024-11-26T04:41:47.402744Z",
     "iopub.status.idle": "2024-11-26T04:41:47.409666Z",
     "shell.execute_reply": "2024-11-26T04:41:47.408481Z"
    },
    "papermill": {
     "duration": 0.027918,
     "end_time": "2024-11-26T04:41:47.411747",
     "exception": false,
     "start_time": "2024-11-26T04:41:47.383829",
     "status": "completed"
    },
    "tags": []
   },
   "outputs": [
    {
     "data": {
      "text/plain": [
       "13.268812023190648"
      ]
     },
     "execution_count": 17,
     "metadata": {},
     "output_type": "execute_result"
    }
   ],
   "source": [
    "model.intercept_"
   ]
  },
  {
   "cell_type": "markdown",
   "id": "26b51d7e",
   "metadata": {
    "papermill": {
     "duration": 0.013064,
     "end_time": "2024-11-26T04:41:47.438130",
     "exception": false,
     "start_time": "2024-11-26T04:41:47.425066",
     "status": "completed"
    },
    "tags": []
   },
   "source": [
    "# Now check the slope\n"
   ]
  },
  {
   "cell_type": "code",
   "execution_count": 18,
   "id": "68665380",
   "metadata": {
    "execution": {
     "iopub.execute_input": "2024-11-26T04:41:47.467557Z",
     "iopub.status.busy": "2024-11-26T04:41:47.466495Z",
     "iopub.status.idle": "2024-11-26T04:41:47.474651Z",
     "shell.execute_reply": "2024-11-26T04:41:47.473435Z"
    },
    "papermill": {
     "duration": 0.025644,
     "end_time": "2024-11-26T04:41:47.477075",
     "exception": false,
     "start_time": "2024-11-26T04:41:47.451431",
     "status": "completed"
    },
    "tags": []
   },
   "outputs": [
    {
     "data": {
      "text/plain": [
       "array([-0.17408531])"
      ]
     },
     "execution_count": 18,
     "metadata": {},
     "output_type": "execute_result"
    }
   ],
   "source": [
    "model.coef_"
   ]
  },
  {
   "cell_type": "markdown",
   "id": "ed8ff198",
   "metadata": {
    "papermill": {
     "duration": 0.013247,
     "end_time": "2024-11-26T04:41:47.505554",
     "exception": false,
     "start_time": "2024-11-26T04:41:47.492307",
     "status": "completed"
    },
    "tags": []
   },
   "source": [
    "# Visualising Predicted values for X using Linear Regression"
   ]
  },
  {
   "cell_type": "code",
   "execution_count": 19,
   "id": "d31356eb",
   "metadata": {
    "execution": {
     "iopub.execute_input": "2024-11-26T04:41:47.533595Z",
     "iopub.status.busy": "2024-11-26T04:41:47.533231Z",
     "iopub.status.idle": "2024-11-26T04:41:47.805594Z",
     "shell.execute_reply": "2024-11-26T04:41:47.804502Z"
    },
    "papermill": {
     "duration": 0.289244,
     "end_time": "2024-11-26T04:41:47.807935",
     "exception": false,
     "start_time": "2024-11-26T04:41:47.518691",
     "status": "completed"
    },
    "tags": []
   },
   "outputs": [
    {
     "data": {
      "image/png": "[encoded data removed]",
      "text/plain": [
       "<Figure size 1200x600 with 1 Axes>"
      ]
     },
     "metadata": {},
     "output_type": "display_data"
    }
   ],
   "source": [
    "plt.figure(figsize = (12,6))\n",
    "sns.scatterplot(x = \"Age\", y = \"Sleep Quality\" , data = df , label = \"Actual Data\")\n",
    "\n",
    "plt.plot(X, model.predict(X) ,color = \"Red\", label = \"Predicted Data\")\n",
    "plt.title(\"Predicted Data\")\n",
    "plt.xlabel(\"Age\")\n",
    "plt.ylabel(\"Sleep Quality\")\n",
    "plt.show()\n"
   ]
  },
  {
   "cell_type": "markdown",
   "id": "28713b78",
   "metadata": {
    "papermill": {
     "duration": 0.013195,
     "end_time": "2024-11-26T04:41:47.834753",
     "exception": false,
     "start_time": "2024-11-26T04:41:47.821558",
     "status": "completed"
    },
    "tags": []
   },
   "source": [
    "# Physical activity vs Sleep quality"
   ]
  },
  {
   "cell_type": "code",
   "execution_count": 20,
   "id": "b220ecf0",
   "metadata": {
    "execution": {
     "iopub.execute_input": "2024-11-26T04:41:47.863580Z",
     "iopub.status.busy": "2024-11-26T04:41:47.863169Z",
     "iopub.status.idle": "2024-11-26T04:41:47.871063Z",
     "shell.execute_reply": "2024-11-26T04:41:47.869968Z"
    },
    "papermill": {
     "duration": 0.024783,
     "end_time": "2024-11-26T04:41:47.873118",
     "exception": false,
     "start_time": "2024-11-26T04:41:47.848335",
     "status": "completed"
    },
    "tags": []
   },
   "outputs": [
    {
     "data": {
      "text/plain": [
       "0    medium\n",
       "1       low\n",
       "2      high\n",
       "3       low\n",
       "4      high\n",
       "Name: Physical Activity Level, dtype: object"
      ]
     },
     "execution_count": 20,
     "metadata": {},
     "output_type": "execute_result"
    }
   ],
   "source": [
    "df[\"Physical Activity Level\"].head()"
   ]
  },
  {
   "cell_type": "code",
   "execution_count": 21,
   "id": "7129a233",
   "metadata": {
    "execution": {
     "iopub.execute_input": "2024-11-26T04:41:47.903418Z",
     "iopub.status.busy": "2024-11-26T04:41:47.902488Z",
     "iopub.status.idle": "2024-11-26T04:41:47.908911Z",
     "shell.execute_reply": "2024-11-26T04:41:47.907711Z"
    },
    "papermill": {
     "duration": 0.023846,
     "end_time": "2024-11-26T04:41:47.911044",
     "exception": false,
     "start_time": "2024-11-26T04:41:47.887198",
     "status": "completed"
    },
    "tags": []
   },
   "outputs": [],
   "source": [
    "custom_codes = {\"high\":1, \"medium\":2, \"low\":3}\n",
    "df[\"Physical Activity Level\"] = df[\"Physical Activity Level\"].map(custom_codes)\n"
   ]
  },
  {
   "cell_type": "code",
   "execution_count": 22,
   "id": "04dba3a3",
   "metadata": {
    "execution": {
     "iopub.execute_input": "2024-11-26T04:41:47.940441Z",
     "iopub.status.busy": "2024-11-26T04:41:47.940070Z",
     "iopub.status.idle": "2024-11-26T04:41:47.947658Z",
     "shell.execute_reply": "2024-11-26T04:41:47.946589Z"
    },
    "papermill": {
     "duration": 0.024699,
     "end_time": "2024-11-26T04:41:47.949747",
     "exception": false,
     "start_time": "2024-11-26T04:41:47.925048",
     "status": "completed"
    },
    "tags": []
   },
   "outputs": [
    {
     "data": {
      "text/plain": [
       "0    2\n",
       "1    3\n",
       "2    1\n",
       "3    3\n",
       "4    1\n",
       "Name: Physical Activity Level, dtype: int64"
      ]
     },
     "execution_count": 22,
     "metadata": {},
     "output_type": "execute_result"
    }
   ],
   "source": [
    "df[\"Physical Activity Level\"].head()"
   ]
  },
  {
   "cell_type": "code",
   "execution_count": 23,
   "id": "f38b99ad",
   "metadata": {
    "execution": {
     "iopub.execute_input": "2024-11-26T04:41:47.979272Z",
     "iopub.status.busy": "2024-11-26T04:41:47.978434Z",
     "iopub.status.idle": "2024-11-26T04:41:48.219042Z",
     "shell.execute_reply": "2024-11-26T04:41:48.217994Z"
    },
    "papermill": {
     "duration": 0.258017,
     "end_time": "2024-11-26T04:41:48.221518",
     "exception": false,
     "start_time": "2024-11-26T04:41:47.963501",
     "status": "completed"
    },
    "tags": []
   },
   "outputs": [
    {
     "data": {
      "text/plain": [
       "<Axes: xlabel='Gender', ylabel='Physical Activity Level'>"
      ]
     },
     "execution_count": 23,
     "metadata": {},
     "output_type": "execute_result"
    },
    {
     "data": {
      "image/png": "[encoded data removed]",
      "text/plain": [
       "<Figure size 640x480 with 1 Axes>"
      ]
     },
     "metadata": {},
     "output_type": "display_data"
    }
   ],
   "source": [
    "sns.barplot(x = \"Gender\", y = \"Physical Activity Level\", data = df)"
   ]
  },
  {
   "cell_type": "markdown",
   "id": "70b130f4",
   "metadata": {
    "papermill": {
     "duration": 0.014282,
     "end_time": "2024-11-26T04:41:48.250432",
     "exception": false,
     "start_time": "2024-11-26T04:41:48.236150",
     "status": "completed"
    },
    "tags": []
   },
   "source": [
    "# Time of sleep & Waking up vs Sleep quality"
   ]
  },
  {
   "cell_type": "code",
   "execution_count": 24,
   "id": "27102549",
   "metadata": {
    "execution": {
     "iopub.execute_input": "2024-11-26T04:41:48.281326Z",
     "iopub.status.busy": "2024-11-26T04:41:48.280529Z",
     "iopub.status.idle": "2024-11-26T04:41:48.288170Z",
     "shell.execute_reply": "2024-11-26T04:41:48.287145Z"
    },
    "papermill": {
     "duration": 0.025324,
     "end_time": "2024-11-26T04:41:48.290169",
     "exception": false,
     "start_time": "2024-11-26T04:41:48.264845",
     "status": "completed"
    },
    "tags": []
   },
   "outputs": [
    {
     "data": {
      "text/plain": [
       "0    23:00\n",
       "1    00:30\n",
       "2    22:45\n",
       "3    01:00\n",
       "4    23:30\n",
       "Name: Bedtime, dtype: object"
      ]
     },
     "execution_count": 24,
     "metadata": {},
     "output_type": "execute_result"
    }
   ],
   "source": [
    "df[\"Bedtime\"].head()"
   ]
  },
  {
   "cell_type": "code",
   "execution_count": 25,
   "id": "11958343",
   "metadata": {
    "execution": {
     "iopub.execute_input": "2024-11-26T04:41:48.320745Z",
     "iopub.status.busy": "2024-11-26T04:41:48.320343Z",
     "iopub.status.idle": "2024-11-26T04:41:48.327805Z",
     "shell.execute_reply": "2024-11-26T04:41:48.326823Z"
    },
    "papermill": {
     "duration": 0.025385,
     "end_time": "2024-11-26T04:41:48.330084",
     "exception": false,
     "start_time": "2024-11-26T04:41:48.304699",
     "status": "completed"
    },
    "tags": []
   },
   "outputs": [
    {
     "data": {
      "text/plain": [
       "0    06:30\n",
       "1    07:00\n",
       "2    06:45\n",
       "3    06:30\n",
       "4    07:00\n",
       "Name: Wake-up Time, dtype: object"
      ]
     },
     "execution_count": 25,
     "metadata": {},
     "output_type": "execute_result"
    }
   ],
   "source": [
    "df[\"Wake-up Time\"].head()"
   ]
  },
  {
   "cell_type": "code",
   "execution_count": 26,
   "id": "89d57e6e",
   "metadata": {
    "execution": {
     "iopub.execute_input": "2024-11-26T04:41:48.360570Z",
     "iopub.status.busy": "2024-11-26T04:41:48.359778Z",
     "iopub.status.idle": "2024-11-26T04:41:48.366677Z",
     "shell.execute_reply": "2024-11-26T04:41:48.365670Z"
    },
    "papermill": {
     "duration": 0.024844,
     "end_time": "2024-11-26T04:41:48.369208",
     "exception": false,
     "start_time": "2024-11-26T04:41:48.344364",
     "status": "completed"
    },
    "tags": []
   },
   "outputs": [],
   "source": [
    "def sleep_time_helper_function(str_time):\n",
    "    h = str_time.split(\":\")[0]\n",
    "    m = str_time.split(\":\")[1]\n",
    "\n",
    "    return int(h) + int(m)/60\n",
    "\n",
    "df[\"Bedtime\"] = df[\"Bedtime\"].apply(sleep_time_helper_function)\n",
    "df[\"Wake-up Time\"] = df[\"Wake-up Time\"].apply(sleep_time_helper_function)"
   ]
  },
  {
   "cell_type": "code",
   "execution_count": 27,
   "id": "d8b9be3e",
   "metadata": {
    "execution": {
     "iopub.execute_input": "2024-11-26T04:41:48.400237Z",
     "iopub.status.busy": "2024-11-26T04:41:48.399843Z",
     "iopub.status.idle": "2024-11-26T04:41:48.407643Z",
     "shell.execute_reply": "2024-11-26T04:41:48.406532Z"
    },
    "papermill": {
     "duration": 0.025494,
     "end_time": "2024-11-26T04:41:48.409707",
     "exception": false,
     "start_time": "2024-11-26T04:41:48.384213",
     "status": "completed"
    },
    "tags": []
   },
   "outputs": [
    {
     "data": {
      "text/plain": [
       "0    23.00\n",
       "1     0.50\n",
       "2    22.75\n",
       "3     1.00\n",
       "4    23.50\n",
       "Name: Bedtime, dtype: float64"
      ]
     },
     "execution_count": 27,
     "metadata": {},
     "output_type": "execute_result"
    }
   ],
   "source": [
    "df[\"Bedtime\"].head()"
   ]
  },
  {
   "cell_type": "code",
   "execution_count": 28,
   "id": "9401dfbf",
   "metadata": {
    "execution": {
     "iopub.execute_input": "2024-11-26T04:41:48.440403Z",
     "iopub.status.busy": "2024-11-26T04:41:48.440000Z",
     "iopub.status.idle": "2024-11-26T04:41:48.449800Z",
     "shell.execute_reply": "2024-11-26T04:41:48.448678Z"
    },
    "papermill": {
     "duration": 0.027825,
     "end_time": "2024-11-26T04:41:48.452066",
     "exception": false,
     "start_time": "2024-11-26T04:41:48.424241",
     "status": "completed"
    },
    "tags": []
   },
   "outputs": [
    {
     "data": {
      "text/plain": [
       "0    7.5\n",
       "1    6.5\n",
       "2    8.0\n",
       "3    5.5\n",
       "4    7.5\n",
       "Name: Sleep Duration Hours, dtype: float64"
      ]
     },
     "execution_count": 28,
     "metadata": {},
     "output_type": "execute_result"
    }
   ],
   "source": [
    "df[\"Sleep Duration Hours\"] = (df[\"Wake-up Time\"] - df[\"Bedtime\"])%24\n",
    "df[\"Sleep Duration Hours\"].head()"
   ]
  },
  {
   "cell_type": "code",
   "execution_count": 29,
   "id": "311f57ba",
   "metadata": {
    "execution": {
     "iopub.execute_input": "2024-11-26T04:41:48.483847Z",
     "iopub.status.busy": "2024-11-26T04:41:48.483409Z",
     "iopub.status.idle": "2024-11-26T04:41:48.498304Z",
     "shell.execute_reply": "2024-11-26T04:41:48.497328Z"
    },
    "papermill": {
     "duration": 0.032859,
     "end_time": "2024-11-26T04:41:48.500392",
     "exception": false,
     "start_time": "2024-11-26T04:41:48.467533",
     "status": "completed"
    },
    "tags": []
   },
   "outputs": [
    {
     "data": {
      "text/html": [
       "<div>\n",
       "<style scoped>\n",
       "    .dataframe tbody tr th:only-of-type {\n",
       "        vertical-align: middle;\n",
       "    }\n",
       "\n",
       "    .dataframe tbody tr th {\n",
       "        vertical-align: top;\n",
       "    }\n",
       "\n",
       "    .dataframe thead th {\n",
       "        text-align: right;\n",
       "    }\n",
       "</style>\n",
       "<table border=\"1\" class=\"dataframe\">\n",
       "  <thead>\n",
       "    <tr style=\"text-align: right;\">\n",
       "      <th></th>\n",
       "      <th>Age</th>\n",
       "      <th>Gender</th>\n",
       "      <th>Sleep Quality</th>\n",
       "      <th>Bedtime</th>\n",
       "      <th>Wake-up Time</th>\n",
       "      <th>Daily Steps</th>\n",
       "      <th>Calories Burned</th>\n",
       "      <th>Physical Activity Level</th>\n",
       "      <th>Dietary Habits</th>\n",
       "      <th>Sleep Disorders</th>\n",
       "      <th>Medication Usage</th>\n",
       "      <th>Sleep Duration Hours</th>\n",
       "    </tr>\n",
       "  </thead>\n",
       "  <tbody>\n",
       "    <tr>\n",
       "      <th>0</th>\n",
       "      <td>25</td>\n",
       "      <td>f</td>\n",
       "      <td>8</td>\n",
       "      <td>23.00</td>\n",
       "      <td>6.50</td>\n",
       "      <td>8000</td>\n",
       "      <td>2500</td>\n",
       "      <td>2</td>\n",
       "      <td>healthy</td>\n",
       "      <td>no</td>\n",
       "      <td>no</td>\n",
       "      <td>7.5</td>\n",
       "    </tr>\n",
       "    <tr>\n",
       "      <th>1</th>\n",
       "      <td>34</td>\n",
       "      <td>m</td>\n",
       "      <td>7</td>\n",
       "      <td>0.50</td>\n",
       "      <td>7.00</td>\n",
       "      <td>5000</td>\n",
       "      <td>2200</td>\n",
       "      <td>3</td>\n",
       "      <td>unhealthy</td>\n",
       "      <td>yes</td>\n",
       "      <td>yes</td>\n",
       "      <td>6.5</td>\n",
       "    </tr>\n",
       "    <tr>\n",
       "      <th>2</th>\n",
       "      <td>29</td>\n",
       "      <td>f</td>\n",
       "      <td>9</td>\n",
       "      <td>22.75</td>\n",
       "      <td>6.75</td>\n",
       "      <td>9000</td>\n",
       "      <td>2700</td>\n",
       "      <td>1</td>\n",
       "      <td>healthy</td>\n",
       "      <td>no</td>\n",
       "      <td>no</td>\n",
       "      <td>8.0</td>\n",
       "    </tr>\n",
       "    <tr>\n",
       "      <th>3</th>\n",
       "      <td>41</td>\n",
       "      <td>m</td>\n",
       "      <td>5</td>\n",
       "      <td>1.00</td>\n",
       "      <td>6.50</td>\n",
       "      <td>4000</td>\n",
       "      <td>2100</td>\n",
       "      <td>3</td>\n",
       "      <td>unhealthy</td>\n",
       "      <td>yes</td>\n",
       "      <td>no</td>\n",
       "      <td>5.5</td>\n",
       "    </tr>\n",
       "    <tr>\n",
       "      <th>4</th>\n",
       "      <td>22</td>\n",
       "      <td>f</td>\n",
       "      <td>8</td>\n",
       "      <td>23.50</td>\n",
       "      <td>7.00</td>\n",
       "      <td>10000</td>\n",
       "      <td>2800</td>\n",
       "      <td>1</td>\n",
       "      <td>medium</td>\n",
       "      <td>no</td>\n",
       "      <td>no</td>\n",
       "      <td>7.5</td>\n",
       "    </tr>\n",
       "  </tbody>\n",
       "</table>\n",
       "</div>"
      ],
      "text/plain": [
       "   Age Gender  Sleep Quality  Bedtime  Wake-up Time  Daily Steps  \\\n",
       "0   25      f              8    23.00          6.50         8000   \n",
       "1   34      m              7     0.50          7.00         5000   \n",
       "2   29      f              9    22.75          6.75         9000   \n",
       "3   41      m              5     1.00          6.50         4000   \n",
       "4   22      f              8    23.50          7.00        10000   \n",
       "\n",
       "   Calories Burned  Physical Activity Level Dietary Habits Sleep Disorders  \\\n",
       "0             2500                        2        healthy              no   \n",
       "1             2200                        3      unhealthy             yes   \n",
       "2             2700                        1        healthy              no   \n",
       "3             2100                        3      unhealthy             yes   \n",
       "4             2800                        1         medium              no   \n",
       "\n",
       "  Medication Usage  Sleep Duration Hours  \n",
       "0               no                   7.5  \n",
       "1              yes                   6.5  \n",
       "2               no                   8.0  \n",
       "3               no                   5.5  \n",
       "4               no                   7.5  "
      ]
     },
     "execution_count": 29,
     "metadata": {},
     "output_type": "execute_result"
    }
   ],
   "source": [
    "df.head()"
   ]
  },
  {
   "cell_type": "code",
   "execution_count": 30,
   "id": "87418c25",
   "metadata": {
    "execution": {
     "iopub.execute_input": "2024-11-26T04:41:48.531828Z",
     "iopub.status.busy": "2024-11-26T04:41:48.531412Z",
     "iopub.status.idle": "2024-11-26T04:41:49.075181Z",
     "shell.execute_reply": "2024-11-26T04:41:49.074140Z"
    },
    "papermill": {
     "duration": 0.56211,
     "end_time": "2024-11-26T04:41:49.077433",
     "exception": false,
     "start_time": "2024-11-26T04:41:48.515323",
     "status": "completed"
    },
    "tags": []
   },
   "outputs": [
    {
     "data": {
      "text/plain": [
       "<Axes: xlabel='Bedtime', ylabel='Sleep Quality'>"
      ]
     },
     "execution_count": 30,
     "metadata": {},
     "output_type": "execute_result"
    },
    {
     "data": {
      "image/png": "[encoded data removed]",
      "text/plain": [
       "<Figure size 1200x600 with 1 Axes>"
      ]
     },
     "metadata": {},
     "output_type": "display_data"
    }
   ],
   "source": [
    "plt.figure(figsize = (12,6))\n",
    "sns.barplot(x = \"Bedtime\", y = \"Sleep Quality\", data = df)"
   ]
  },
  {
   "cell_type": "code",
   "execution_count": 31,
   "id": "e20af57b",
   "metadata": {
    "execution": {
     "iopub.execute_input": "2024-11-26T04:41:49.109831Z",
     "iopub.status.busy": "2024-11-26T04:41:49.109396Z",
     "iopub.status.idle": "2024-11-26T04:41:49.626420Z",
     "shell.execute_reply": "2024-11-26T04:41:49.625165Z"
    },
    "papermill": {
     "duration": 0.536003,
     "end_time": "2024-11-26T04:41:49.628544",
     "exception": false,
     "start_time": "2024-11-26T04:41:49.092541",
     "status": "completed"
    },
    "tags": []
   },
   "outputs": [
    {
     "data": {
      "text/plain": [
       "<Axes: xlabel='Sleep Duration Hours', ylabel='Sleep Quality'>"
      ]
     },
     "execution_count": 31,
     "metadata": {},
     "output_type": "execute_result"
    },
    {
     "data": {
      "image/png": "[encoded data removed]",
      "text/plain": [
       "<Figure size 1200x600 with 1 Axes>"
      ]
     },
     "metadata": {},
     "output_type": "display_data"
    }
   ],
   "source": [
    "plt.figure(figsize = (12,6))\n",
    "sns.barplot(x = \"Sleep Duration Hours\", y = \"Sleep Quality\", data = df)"
   ]
  },
  {
   "cell_type": "code",
   "execution_count": 32,
   "id": "98bb48d1",
   "metadata": {
    "execution": {
     "iopub.execute_input": "2024-11-26T04:41:49.661797Z",
     "iopub.status.busy": "2024-11-26T04:41:49.661377Z",
     "iopub.status.idle": "2024-11-26T04:41:49.674063Z",
     "shell.execute_reply": "2024-11-26T04:41:49.673022Z"
    },
    "papermill": {
     "duration": 0.031756,
     "end_time": "2024-11-26T04:41:49.676214",
     "exception": false,
     "start_time": "2024-11-26T04:41:49.644458",
     "status": "completed"
    },
    "tags": []
   },
   "outputs": [
    {
     "data": {
      "text/html": [
       "<style>#sk-container-id-2 {color: black;background-color: white;}#sk-container-id-2 pre{padding: 0;}#sk-container-id-2 div.sk-toggleable {background-color: white;}#sk-container-id-2 label.sk-toggleable__label {cursor: pointer;display: block;width: 100%;margin-bottom: 0;padding: 0.3em;box-sizing: border-box;text-align: center;}#sk-container-id-2 label.sk-toggleable__label-arrow:before {content: \"▸\";float: left;margin-right: 0.25em;color: #696969;}#sk-container-id-2 label.sk-toggleable__label-arrow:hover:before {color: black;}#sk-container-id-2 div.sk-estimator:hover label.sk-toggleable__label-arrow:before {color: black;}#sk-container-id-2 div.sk-toggleable__content {max-height: 0;max-width: 0;overflow: hidden;text-align: left;background-color: #f0f8ff;}#sk-container-id-2 div.sk-toggleable__content pre {margin: 0.2em;color: black;border-radius: 0.25em;background-color: #f0f8ff;}#sk-container-id-2 input.sk-toggleable__control:checked~div.sk-toggleable__content {max-height: 200px;max-width: 100%;overflow: auto;}#sk-container-id-2 input.sk-toggleable__control:checked~label.sk-toggleable__label-arrow:before {content: \"▾\";}#sk-container-id-2 div.sk-estimator input.sk-toggleable__control:checked~label.sk-toggleable__label {background-color: #d4ebff;}#sk-container-id-2 div.sk-label input.sk-toggleable__control:checked~label.sk-toggleable__label {background-color: #d4ebff;}#sk-container-id-2 input.sk-hidden--visually {border: 0;clip: rect(1px 1px 1px 1px);clip: rect(1px, 1px, 1px, 1px);height: 1px;margin: -1px;overflow: hidden;padding: 0;position: absolute;width: 1px;}#sk-container-id-2 div.sk-estimator {font-family: monospace;background-color: #f0f8ff;border: 1px dotted black;border-radius: 0.25em;box-sizing: border-box;margin-bottom: 0.5em;}#sk-container-id-2 div.sk-estimator:hover {background-color: #d4ebff;}#sk-container-id-2 div.sk-parallel-item::after {content: \"\";width: 100%;border-bottom: 1px solid gray;flex-grow: 1;}#sk-container-id-2 div.sk-label:hover label.sk-toggleable__label {background-color: #d4ebff;}#sk-container-id-2 div.sk-serial::before {content: \"\";position: absolute;border-left: 1px solid gray;box-sizing: border-box;top: 0;bottom: 0;left: 50%;z-index: 0;}#sk-container-id-2 div.sk-serial {display: flex;flex-direction: column;align-items: center;background-color: white;padding-right: 0.2em;padding-left: 0.2em;position: relative;}#sk-container-id-2 div.sk-item {position: relative;z-index: 1;}#sk-container-id-2 div.sk-parallel {display: flex;align-items: stretch;justify-content: center;background-color: white;position: relative;}#sk-container-id-2 div.sk-item::before, #sk-container-id-2 div.sk-parallel-item::before {content: \"\";position: absolute;border-left: 1px solid gray;box-sizing: border-box;top: 0;bottom: 0;left: 50%;z-index: -1;}#sk-container-id-2 div.sk-parallel-item {display: flex;flex-direction: column;z-index: 1;position: relative;background-color: white;}#sk-container-id-2 div.sk-parallel-item:first-child::after {align-self: flex-end;width: 50%;}#sk-container-id-2 div.sk-parallel-item:last-child::after {align-self: flex-start;width: 50%;}#sk-container-id-2 div.sk-parallel-item:only-child::after {width: 0;}#sk-container-id-2 div.sk-dashed-wrapped {border: 1px dashed gray;margin: 0 0.4em 0.5em 0.4em;box-sizing: border-box;padding-bottom: 0.4em;background-color: white;}#sk-container-id-2 div.sk-label label {font-family: monospace;font-weight: bold;display: inline-block;line-height: 1.2em;}#sk-container-id-2 div.sk-label-container {text-align: center;}#sk-container-id-2 div.sk-container {/* jupyter's `normalize.less` sets `[hidden] { display: none; }` but bootstrap.min.css set `[hidden] { display: none !important; }` so we also need the `!important` here to be able to override the default hidden behavior on the sphinx rendered scikit-learn.org. See: https://github.com/scikit-learn/scikit-learn/issues/21755 */display: inline-block !important;position: relative;}#sk-container-id-2 div.sk-text-repr-fallback {display: none;}</style><div id=\"sk-container-id-2\" class=\"sk-top-container\"><div class=\"sk-text-repr-fallback\"><pre>LinearRegression()</pre><b>In a Jupyter environment, please rerun this cell to show the HTML representation or trust the notebook. <br />On GitHub, the HTML representation is unable to render, please try loading this page with nbviewer.org.</b></div><div class=\"sk-container\" hidden><div class=\"sk-item\"><div class=\"sk-estimator sk-toggleable\"><input class=\"sk-toggleable__control sk-hidden--visually\" id=\"sk-estimator-id-2\" type=\"checkbox\" checked><label for=\"sk-estimator-id-2\" class=\"sk-toggleable__label sk-toggleable__label-arrow\">LinearRegression</label><div class=\"sk-toggleable__content\"><pre>LinearRegression()</pre></div></div></div></div></div>"
      ],
      "text/plain": [
       "LinearRegression()"
      ]
     },
     "execution_count": 32,
     "metadata": {},
     "output_type": "execute_result"
    }
   ],
   "source": [
    "sleep_duration_quality_model = LinearRegression()\n",
    "\n",
    "x = df[[\"Sleep Duration Hours\"]]\n",
    "y = df[[\"Sleep Quality\"]]\n",
    "\n",
    "sleep_duration_quality_model.fit(x,y)"
   ]
  },
  {
   "cell_type": "code",
   "execution_count": 33,
   "id": "7ec75908",
   "metadata": {
    "execution": {
     "iopub.execute_input": "2024-11-26T04:41:49.709974Z",
     "iopub.status.busy": "2024-11-26T04:41:49.709182Z",
     "iopub.status.idle": "2024-11-26T04:41:49.715915Z",
     "shell.execute_reply": "2024-11-26T04:41:49.714921Z"
    },
    "papermill": {
     "duration": 0.025698,
     "end_time": "2024-11-26T04:41:49.717949",
     "exception": false,
     "start_time": "2024-11-26T04:41:49.692251",
     "status": "completed"
    },
    "tags": []
   },
   "outputs": [
    {
     "data": {
      "text/plain": [
       "array([[1.36940999]])"
      ]
     },
     "execution_count": 33,
     "metadata": {},
     "output_type": "execute_result"
    }
   ],
   "source": [
    "sleep_duration_quality_model.coef_"
   ]
  },
  {
   "cell_type": "code",
   "execution_count": 34,
   "id": "18a8b083",
   "metadata": {
    "execution": {
     "iopub.execute_input": "2024-11-26T04:41:49.751573Z",
     "iopub.status.busy": "2024-11-26T04:41:49.750659Z",
     "iopub.status.idle": "2024-11-26T04:41:49.756901Z",
     "shell.execute_reply": "2024-11-26T04:41:49.755850Z"
    },
    "papermill": {
     "duration": 0.025284,
     "end_time": "2024-11-26T04:41:49.758957",
     "exception": false,
     "start_time": "2024-11-26T04:41:49.733673",
     "status": "completed"
    },
    "tags": []
   },
   "outputs": [],
   "source": [
    "prediction = sleep_duration_quality_model.predict(x)"
   ]
  },
  {
   "cell_type": "code",
   "execution_count": 35,
   "id": "f884d473",
   "metadata": {
    "execution": {
     "iopub.execute_input": "2024-11-26T04:41:49.792801Z",
     "iopub.status.busy": "2024-11-26T04:41:49.791865Z",
     "iopub.status.idle": "2024-11-26T04:41:50.054264Z",
     "shell.execute_reply": "2024-11-26T04:41:50.052961Z"
    },
    "papermill": {
     "duration": 0.281826,
     "end_time": "2024-11-26T04:41:50.056604",
     "exception": false,
     "start_time": "2024-11-26T04:41:49.774778",
     "status": "completed"
    },
    "tags": []
   },
   "outputs": [
    {
     "data": {
      "image/png": "[encoded data removed]",
      "text/plain": [
       "<Figure size 1200x600 with 1 Axes>"
      ]
     },
     "metadata": {},
     "output_type": "display_data"
    }
   ],
   "source": [
    "plt.figure(figsize = (12,6))\n",
    "sns.scatterplot(x= \"Sleep Duration Hours\", y = \"Sleep Quality\", data = df)\n",
    "plt.plot(x, prediction, color=\"green\" , label = \"Predicted values\")\n",
    "plt.show()"
   ]
  },
  {
   "cell_type": "markdown",
   "id": "e8403b0b",
   "metadata": {
    "papermill": {
     "duration": 0.015859,
     "end_time": "2024-11-26T04:41:50.088765",
     "exception": false,
     "start_time": "2024-11-26T04:41:50.072906",
     "status": "completed"
    },
    "tags": []
   },
   "source": [
    "# Sleep Disorders vs Sleep Quality"
   ]
  },
  {
   "cell_type": "code",
   "execution_count": 36,
   "id": "c0f46620",
   "metadata": {
    "execution": {
     "iopub.execute_input": "2024-11-26T04:41:50.122596Z",
     "iopub.status.busy": "2024-11-26T04:41:50.122199Z",
     "iopub.status.idle": "2024-11-26T04:41:50.130033Z",
     "shell.execute_reply": "2024-11-26T04:41:50.128958Z"
    },
    "papermill": {
     "duration": 0.027425,
     "end_time": "2024-11-26T04:41:50.132145",
     "exception": false,
     "start_time": "2024-11-26T04:41:50.104720",
     "status": "completed"
    },
    "tags": []
   },
   "outputs": [
    {
     "data": {
      "text/plain": [
       "0     no\n",
       "1    yes\n",
       "2     no\n",
       "3    yes\n",
       "4     no\n",
       "Name: Sleep Disorders, dtype: object"
      ]
     },
     "execution_count": 36,
     "metadata": {},
     "output_type": "execute_result"
    }
   ],
   "source": [
    "df[\"Sleep Disorders\"].head()"
   ]
  },
  {
   "cell_type": "code",
   "execution_count": 37,
   "id": "ed62e0ba",
   "metadata": {
    "execution": {
     "iopub.execute_input": "2024-11-26T04:41:50.167459Z",
     "iopub.status.busy": "2024-11-26T04:41:50.166668Z",
     "iopub.status.idle": "2024-11-26T04:41:50.174072Z",
     "shell.execute_reply": "2024-11-26T04:41:50.172971Z"
    },
    "papermill": {
     "duration": 0.027088,
     "end_time": "2024-11-26T04:41:50.176053",
     "exception": false,
     "start_time": "2024-11-26T04:41:50.148965",
     "status": "completed"
    },
    "tags": []
   },
   "outputs": [
    {
     "data": {
      "text/plain": [
       "0    8\n",
       "1    7\n",
       "2    9\n",
       "3    5\n",
       "4    8\n",
       "Name: Sleep Quality, dtype: int64"
      ]
     },
     "execution_count": 37,
     "metadata": {},
     "output_type": "execute_result"
    }
   ],
   "source": [
    "df[\"Sleep Quality\"].head()"
   ]
  },
  {
   "cell_type": "code",
   "execution_count": 38,
   "id": "ac21d6c3",
   "metadata": {
    "execution": {
     "iopub.execute_input": "2024-11-26T04:41:50.210960Z",
     "iopub.status.busy": "2024-11-26T04:41:50.210171Z",
     "iopub.status.idle": "2024-11-26T04:41:50.425351Z",
     "shell.execute_reply": "2024-11-26T04:41:50.424069Z"
    },
    "papermill": {
     "duration": 0.235265,
     "end_time": "2024-11-26T04:41:50.427741",
     "exception": false,
     "start_time": "2024-11-26T04:41:50.192476",
     "status": "completed"
    },
    "tags": []
   },
   "outputs": [
    {
     "data": {
      "text/plain": [
       "<Axes: xlabel='Sleep Disorders', ylabel='Sleep Quality'>"
      ]
     },
     "execution_count": 38,
     "metadata": {},
     "output_type": "execute_result"
    },
    {
     "data": {
      "image/png": "[encoded data removed]",
      "text/plain": [
       "<Figure size 1200x600 with 1 Axes>"
      ]
     },
     "metadata": {},
     "output_type": "display_data"
    }
   ],
   "source": [
    "plt.figure(figsize = (12,6))\n",
    "sns.boxplot(x = \"Sleep Disorders\", y = \"Sleep Quality\", data = df)"
   ]
  },
  {
   "cell_type": "code",
   "execution_count": 39,
   "id": "f8d3dac7",
   "metadata": {
    "execution": {
     "iopub.execute_input": "2024-11-26T04:41:50.463810Z",
     "iopub.status.busy": "2024-11-26T04:41:50.463384Z",
     "iopub.status.idle": "2024-11-26T04:41:50.477555Z",
     "shell.execute_reply": "2024-11-26T04:41:50.476495Z"
    },
    "papermill": {
     "duration": 0.034688,
     "end_time": "2024-11-26T04:41:50.479777",
     "exception": false,
     "start_time": "2024-11-26T04:41:50.445089",
     "status": "completed"
    },
    "tags": []
   },
   "outputs": [
    {
     "data": {
      "text/html": [
       "<div>\n",
       "<style scoped>\n",
       "    .dataframe tbody tr th:only-of-type {\n",
       "        vertical-align: middle;\n",
       "    }\n",
       "\n",
       "    .dataframe tbody tr th {\n",
       "        vertical-align: top;\n",
       "    }\n",
       "\n",
       "    .dataframe thead th {\n",
       "        text-align: right;\n",
       "    }\n",
       "</style>\n",
       "<table border=\"1\" class=\"dataframe\">\n",
       "  <thead>\n",
       "    <tr style=\"text-align: right;\">\n",
       "      <th></th>\n",
       "      <th>Age</th>\n",
       "      <th>Sleep Quality</th>\n",
       "      <th>Bedtime</th>\n",
       "      <th>Wake-up Time</th>\n",
       "      <th>Daily Steps</th>\n",
       "      <th>Calories Burned</th>\n",
       "      <th>Physical Activity Level</th>\n",
       "      <th>Sleep Duration Hours</th>\n",
       "    </tr>\n",
       "  </thead>\n",
       "  <tbody>\n",
       "    <tr>\n",
       "      <th>0</th>\n",
       "      <td>25</td>\n",
       "      <td>8</td>\n",
       "      <td>23.00</td>\n",
       "      <td>6.50</td>\n",
       "      <td>8000</td>\n",
       "      <td>2500</td>\n",
       "      <td>2</td>\n",
       "      <td>7.5</td>\n",
       "    </tr>\n",
       "    <tr>\n",
       "      <th>1</th>\n",
       "      <td>34</td>\n",
       "      <td>7</td>\n",
       "      <td>0.50</td>\n",
       "      <td>7.00</td>\n",
       "      <td>5000</td>\n",
       "      <td>2200</td>\n",
       "      <td>3</td>\n",
       "      <td>6.5</td>\n",
       "    </tr>\n",
       "    <tr>\n",
       "      <th>2</th>\n",
       "      <td>29</td>\n",
       "      <td>9</td>\n",
       "      <td>22.75</td>\n",
       "      <td>6.75</td>\n",
       "      <td>9000</td>\n",
       "      <td>2700</td>\n",
       "      <td>1</td>\n",
       "      <td>8.0</td>\n",
       "    </tr>\n",
       "    <tr>\n",
       "      <th>3</th>\n",
       "      <td>41</td>\n",
       "      <td>5</td>\n",
       "      <td>1.00</td>\n",
       "      <td>6.50</td>\n",
       "      <td>4000</td>\n",
       "      <td>2100</td>\n",
       "      <td>3</td>\n",
       "      <td>5.5</td>\n",
       "    </tr>\n",
       "    <tr>\n",
       "      <th>4</th>\n",
       "      <td>22</td>\n",
       "      <td>8</td>\n",
       "      <td>23.50</td>\n",
       "      <td>7.00</td>\n",
       "      <td>10000</td>\n",
       "      <td>2800</td>\n",
       "      <td>1</td>\n",
       "      <td>7.5</td>\n",
       "    </tr>\n",
       "  </tbody>\n",
       "</table>\n",
       "</div>"
      ],
      "text/plain": [
       "   Age  Sleep Quality  Bedtime  Wake-up Time  Daily Steps  Calories Burned  \\\n",
       "0   25              8    23.00          6.50         8000             2500   \n",
       "1   34              7     0.50          7.00         5000             2200   \n",
       "2   29              9    22.75          6.75         9000             2700   \n",
       "3   41              5     1.00          6.50         4000             2100   \n",
       "4   22              8    23.50          7.00        10000             2800   \n",
       "\n",
       "   Physical Activity Level  Sleep Duration Hours  \n",
       "0                        2                   7.5  \n",
       "1                        3                   6.5  \n",
       "2                        1                   8.0  \n",
       "3                        3                   5.5  \n",
       "4                        1                   7.5  "
      ]
     },
     "execution_count": 39,
     "metadata": {},
     "output_type": "execute_result"
    }
   ],
   "source": [
    "df_numeric_feature = df.select_dtypes(include = [\"int64\", \"float64\"])\n",
    "df_numeric_feature.head()"
   ]
  },
  {
   "cell_type": "code",
   "execution_count": 40,
   "id": "f4129787",
   "metadata": {
    "execution": {
     "iopub.execute_input": "2024-11-26T04:41:50.515701Z",
     "iopub.status.busy": "2024-11-26T04:41:50.515283Z",
     "iopub.status.idle": "2024-11-26T04:41:50.975414Z",
     "shell.execute_reply": "2024-11-26T04:41:50.974307Z"
    },
    "papermill": {
     "duration": 0.480893,
     "end_time": "2024-11-26T04:41:50.977735",
     "exception": false,
     "start_time": "2024-11-26T04:41:50.496842",
     "status": "completed"
    },
    "tags": []
   },
   "outputs": [
    {
     "data": {
      "image/png": "[encoded data removed]",
      "text/plain": [
       "<Figure size 1200x600 with 2 Axes>"
      ]
     },
     "metadata": {},
     "output_type": "display_data"
    }
   ],
   "source": [
    "plt.figure(figsize = (12,6))\n",
    "sns.heatmap(df_numeric_feature.corr())\n",
    "plt.show()"
   ]
  },
  {
   "cell_type": "markdown",
   "id": "6ae14d3a",
   "metadata": {
    "papermill": {
     "duration": 0.018287,
     "end_time": "2024-11-26T04:41:51.014167",
     "exception": false,
     "start_time": "2024-11-26T04:41:50.995880",
     "status": "completed"
    },
    "tags": []
   },
   "source": [
    "# Calories Burned vs Sleep Quality"
   ]
  },
  {
   "cell_type": "code",
   "execution_count": 41,
   "id": "74037ad0",
   "metadata": {
    "execution": {
     "iopub.execute_input": "2024-11-26T04:41:51.051991Z",
     "iopub.status.busy": "2024-11-26T04:41:51.051580Z",
     "iopub.status.idle": "2024-11-26T04:41:51.059391Z",
     "shell.execute_reply": "2024-11-26T04:41:51.058202Z"
    },
    "papermill": {
     "duration": 0.029495,
     "end_time": "2024-11-26T04:41:51.061584",
     "exception": false,
     "start_time": "2024-11-26T04:41:51.032089",
     "status": "completed"
    },
    "tags": []
   },
   "outputs": [
    {
     "data": {
      "text/plain": [
       "0    2500\n",
       "1    2200\n",
       "2    2700\n",
       "3    2100\n",
       "4    2800\n",
       "Name: Calories Burned, dtype: int64"
      ]
     },
     "execution_count": 41,
     "metadata": {},
     "output_type": "execute_result"
    }
   ],
   "source": [
    "df[\"Calories Burned\"].head()"
   ]
  },
  {
   "cell_type": "code",
   "execution_count": 42,
   "id": "da175267",
   "metadata": {
    "execution": {
     "iopub.execute_input": "2024-11-26T04:41:51.100571Z",
     "iopub.status.busy": "2024-11-26T04:41:51.099465Z",
     "iopub.status.idle": "2024-11-26T04:41:51.107410Z",
     "shell.execute_reply": "2024-11-26T04:41:51.106337Z"
    },
    "papermill": {
     "duration": 0.030012,
     "end_time": "2024-11-26T04:41:51.109667",
     "exception": false,
     "start_time": "2024-11-26T04:41:51.079655",
     "status": "completed"
    },
    "tags": []
   },
   "outputs": [
    {
     "data": {
      "text/plain": [
       "0    8\n",
       "1    7\n",
       "2    9\n",
       "3    5\n",
       "4    8\n",
       "Name: Sleep Quality, dtype: int64"
      ]
     },
     "execution_count": 42,
     "metadata": {},
     "output_type": "execute_result"
    }
   ],
   "source": [
    "df[\"Sleep Quality\"].head()"
   ]
  },
  {
   "cell_type": "code",
   "execution_count": 43,
   "id": "33d5cb7a",
   "metadata": {
    "execution": {
     "iopub.execute_input": "2024-11-26T04:41:51.148789Z",
     "iopub.status.busy": "2024-11-26T04:41:51.147855Z",
     "iopub.status.idle": "2024-11-26T04:41:51.600638Z",
     "shell.execute_reply": "2024-11-26T04:41:51.599543Z"
    },
    "papermill": {
     "duration": 0.475129,
     "end_time": "2024-11-26T04:41:51.602922",
     "exception": false,
     "start_time": "2024-11-26T04:41:51.127793",
     "status": "completed"
    },
    "tags": []
   },
   "outputs": [
    {
     "data": {
      "text/plain": [
       "<Axes: xlabel='Calories Burned', ylabel='Sleep Quality'>"
      ]
     },
     "execution_count": 43,
     "metadata": {},
     "output_type": "execute_result"
    },
    {
     "data": {
      "image/png": "[encoded data removed]",
      "text/plain": [
       "<Figure size 1200x600 with 1 Axes>"
      ]
     },
     "metadata": {},
     "output_type": "display_data"
    }
   ],
   "source": [
    "plt.figure(figsize = (12,6))\n",
    "sns.barplot(x = \"Calories Burned\" , y = \"Sleep Quality\" , data = df)"
   ]
  },
  {
   "cell_type": "code",
   "execution_count": 44,
   "id": "18d30f47",
   "metadata": {
    "execution": {
     "iopub.execute_input": "2024-11-26T04:41:51.641985Z",
     "iopub.status.busy": "2024-11-26T04:41:51.641542Z",
     "iopub.status.idle": "2024-11-26T04:41:51.652666Z",
     "shell.execute_reply": "2024-11-26T04:41:51.651666Z"
    },
    "papermill": {
     "duration": 0.033131,
     "end_time": "2024-11-26T04:41:51.654708",
     "exception": false,
     "start_time": "2024-11-26T04:41:51.621577",
     "status": "completed"
    },
    "tags": []
   },
   "outputs": [
    {
     "data": {
      "text/html": [
       "<style>#sk-container-id-3 {color: black;background-color: white;}#sk-container-id-3 pre{padding: 0;}#sk-container-id-3 div.sk-toggleable {background-color: white;}#sk-container-id-3 label.sk-toggleable__label {cursor: pointer;display: block;width: 100%;margin-bottom: 0;padding: 0.3em;box-sizing: border-box;text-align: center;}#sk-container-id-3 label.sk-toggleable__label-arrow:before {content: \"▸\";float: left;margin-right: 0.25em;color: #696969;}#sk-container-id-3 label.sk-toggleable__label-arrow:hover:before {color: black;}#sk-container-id-3 div.sk-estimator:hover label.sk-toggleable__label-arrow:before {color: black;}#sk-container-id-3 div.sk-toggleable__content {max-height: 0;max-width: 0;overflow: hidden;text-align: left;background-color: #f0f8ff;}#sk-container-id-3 div.sk-toggleable__content pre {margin: 0.2em;color: black;border-radius: 0.25em;background-color: #f0f8ff;}#sk-container-id-3 input.sk-toggleable__control:checked~div.sk-toggleable__content {max-height: 200px;max-width: 100%;overflow: auto;}#sk-container-id-3 input.sk-toggleable__control:checked~label.sk-toggleable__label-arrow:before {content: \"▾\";}#sk-container-id-3 div.sk-estimator input.sk-toggleable__control:checked~label.sk-toggleable__label {background-color: #d4ebff;}#sk-container-id-3 div.sk-label input.sk-toggleable__control:checked~label.sk-toggleable__label {background-color: #d4ebff;}#sk-container-id-3 input.sk-hidden--visually {border: 0;clip: rect(1px 1px 1px 1px);clip: rect(1px, 1px, 1px, 1px);height: 1px;margin: -1px;overflow: hidden;padding: 0;position: absolute;width: 1px;}#sk-container-id-3 div.sk-estimator {font-family: monospace;background-color: #f0f8ff;border: 1px dotted black;border-radius: 0.25em;box-sizing: border-box;margin-bottom: 0.5em;}#sk-container-id-3 div.sk-estimator:hover {background-color: #d4ebff;}#sk-container-id-3 div.sk-parallel-item::after {content: \"\";width: 100%;border-bottom: 1px solid gray;flex-grow: 1;}#sk-container-id-3 div.sk-label:hover label.sk-toggleable__label {background-color: #d4ebff;}#sk-container-id-3 div.sk-serial::before {content: \"\";position: absolute;border-left: 1px solid gray;box-sizing: border-box;top: 0;bottom: 0;left: 50%;z-index: 0;}#sk-container-id-3 div.sk-serial {display: flex;flex-direction: column;align-items: center;background-color: white;padding-right: 0.2em;padding-left: 0.2em;position: relative;}#sk-container-id-3 div.sk-item {position: relative;z-index: 1;}#sk-container-id-3 div.sk-parallel {display: flex;align-items: stretch;justify-content: center;background-color: white;position: relative;}#sk-container-id-3 div.sk-item::before, #sk-container-id-3 div.sk-parallel-item::before {content: \"\";position: absolute;border-left: 1px solid gray;box-sizing: border-box;top: 0;bottom: 0;left: 50%;z-index: -1;}#sk-container-id-3 div.sk-parallel-item {display: flex;flex-direction: column;z-index: 1;position: relative;background-color: white;}#sk-container-id-3 div.sk-parallel-item:first-child::after {align-self: flex-end;width: 50%;}#sk-container-id-3 div.sk-parallel-item:last-child::after {align-self: flex-start;width: 50%;}#sk-container-id-3 div.sk-parallel-item:only-child::after {width: 0;}#sk-container-id-3 div.sk-dashed-wrapped {border: 1px dashed gray;margin: 0 0.4em 0.5em 0.4em;box-sizing: border-box;padding-bottom: 0.4em;background-color: white;}#sk-container-id-3 div.sk-label label {font-family: monospace;font-weight: bold;display: inline-block;line-height: 1.2em;}#sk-container-id-3 div.sk-label-container {text-align: center;}#sk-container-id-3 div.sk-container {/* jupyter's `normalize.less` sets `[hidden] { display: none; }` but bootstrap.min.css set `[hidden] { display: none !important; }` so we also need the `!important` here to be able to override the default hidden behavior on the sphinx rendered scikit-learn.org. See: https://github.com/scikit-learn/scikit-learn/issues/21755 */display: inline-block !important;position: relative;}#sk-container-id-3 div.sk-text-repr-fallback {display: none;}</style><div id=\"sk-container-id-3\" class=\"sk-top-container\"><div class=\"sk-text-repr-fallback\"><pre>LinearRegression()</pre><b>In a Jupyter environment, please rerun this cell to show the HTML representation or trust the notebook. <br />On GitHub, the HTML representation is unable to render, please try loading this page with nbviewer.org.</b></div><div class=\"sk-container\" hidden><div class=\"sk-item\"><div class=\"sk-estimator sk-toggleable\"><input class=\"sk-toggleable__control sk-hidden--visually\" id=\"sk-estimator-id-3\" type=\"checkbox\" checked><label for=\"sk-estimator-id-3\" class=\"sk-toggleable__label sk-toggleable__label-arrow\">LinearRegression</label><div class=\"sk-toggleable__content\"><pre>LinearRegression()</pre></div></div></div></div></div>"
      ],
      "text/plain": [
       "LinearRegression()"
      ]
     },
     "execution_count": 44,
     "metadata": {},
     "output_type": "execute_result"
    }
   ],
   "source": [
    "X = df[['Calories Burned']]\n",
    "Y = df['Sleep Quality']\n",
    "\n",
    "model = LinearRegression()\n",
    "\n",
    "model.fit(X, Y)"
   ]
  },
  {
   "cell_type": "code",
   "execution_count": 45,
   "id": "b9e0c274",
   "metadata": {
    "execution": {
     "iopub.execute_input": "2024-11-26T04:41:51.694171Z",
     "iopub.status.busy": "2024-11-26T04:41:51.693762Z",
     "iopub.status.idle": "2024-11-26T04:41:51.700560Z",
     "shell.execute_reply": "2024-11-26T04:41:51.699405Z"
    },
    "papermill": {
     "duration": 0.02907,
     "end_time": "2024-11-26T04:41:51.702454",
     "exception": false,
     "start_time": "2024-11-26T04:41:51.673384",
     "status": "completed"
    },
    "tags": []
   },
   "outputs": [
    {
     "data": {
      "text/plain": [
       "-7.5490928154048795"
      ]
     },
     "execution_count": 45,
     "metadata": {},
     "output_type": "execute_result"
    }
   ],
   "source": [
    "model.intercept_"
   ]
  },
  {
   "cell_type": "code",
   "execution_count": 46,
   "id": "869bb6ab",
   "metadata": {
    "execution": {
     "iopub.execute_input": "2024-11-26T04:41:51.741818Z",
     "iopub.status.busy": "2024-11-26T04:41:51.741382Z",
     "iopub.status.idle": "2024-11-26T04:41:51.748057Z",
     "shell.execute_reply": "2024-11-26T04:41:51.747010Z"
    },
    "papermill": {
     "duration": 0.028939,
     "end_time": "2024-11-26T04:41:51.750154",
     "exception": false,
     "start_time": "2024-11-26T04:41:51.721215",
     "status": "completed"
    },
    "tags": []
   },
   "outputs": [
    {
     "data": {
      "text/plain": [
       "array([0.00600954])"
      ]
     },
     "execution_count": 46,
     "metadata": {},
     "output_type": "execute_result"
    }
   ],
   "source": [
    "model.coef_"
   ]
  },
  {
   "cell_type": "code",
   "execution_count": 47,
   "id": "175cdf67",
   "metadata": {
    "execution": {
     "iopub.execute_input": "2024-11-26T04:41:51.789748Z",
     "iopub.status.busy": "2024-11-26T04:41:51.789324Z",
     "iopub.status.idle": "2024-11-26T04:41:52.078140Z",
     "shell.execute_reply": "2024-11-26T04:41:52.077027Z"
    },
    "papermill": {
     "duration": 0.311805,
     "end_time": "2024-11-26T04:41:52.080711",
     "exception": false,
     "start_time": "2024-11-26T04:41:51.768906",
     "status": "completed"
    },
    "tags": []
   },
   "outputs": [
    {
     "data": {
      "image/png": "[encoded data removed]",
      "text/plain": [
       "<Figure size 1200x600 with 1 Axes>"
      ]
     },
     "metadata": {},
     "output_type": "display_data"
    }
   ],
   "source": [
    "# Ensure proper alignment of data\n",
    "X = df[['Calories Burned']].values  # 2D array\n",
    "y = df['Sleep Quality']\n",
    "\n",
    "# Fit the model\n",
    "model.fit(X, y)\n",
    "\n",
    "# Plot the scatterplot\n",
    "plt.figure(figsize=(12, 6))\n",
    "sns.scatterplot(x=\"Calories Burned\", y=\"Sleep Quality\", data=df, label=\"Actual data\")\n",
    "\n",
    "# Plot the prediction line\n",
    "plt.plot(df['Calories Burned'], model.predict(X), color=\"red\", label=\"Predicted data\")\n",
    "\n",
    "# Add labels and legend\n",
    "plt.title(\"Predicted Data\")\n",
    "plt.xlabel(\"Calories Burned\")\n",
    "plt.ylabel(\"Sleep Quality\")\n",
    "plt.legend()  # Add legend explicitly\n",
    "plt.show()\n",
    "\n",
    "\n"
   ]
  },
  {
   "cell_type": "markdown",
   "id": "fec50836",
   "metadata": {
    "papermill": {
     "duration": 0.019,
     "end_time": "2024-11-26T04:41:52.119266",
     "exception": false,
     "start_time": "2024-11-26T04:41:52.100266",
     "status": "completed"
    },
    "tags": []
   },
   "source": [
    "# Daily Steps vs Sleep Quality"
   ]
  },
  {
   "cell_type": "code",
   "execution_count": 48,
   "id": "a0a01841",
   "metadata": {
    "execution": {
     "iopub.execute_input": "2024-11-26T04:41:52.160147Z",
     "iopub.status.busy": "2024-11-26T04:41:52.159717Z",
     "iopub.status.idle": "2024-11-26T04:41:52.167109Z",
     "shell.execute_reply": "2024-11-26T04:41:52.166106Z"
    },
    "papermill": {
     "duration": 0.030075,
     "end_time": "2024-11-26T04:41:52.169081",
     "exception": false,
     "start_time": "2024-11-26T04:41:52.139006",
     "status": "completed"
    },
    "tags": []
   },
   "outputs": [
    {
     "data": {
      "text/plain": [
       "0     8000\n",
       "1     5000\n",
       "2     9000\n",
       "3     4000\n",
       "4    10000\n",
       "Name: Daily Steps, dtype: int64"
      ]
     },
     "execution_count": 48,
     "metadata": {},
     "output_type": "execute_result"
    }
   ],
   "source": [
    "df[\"Daily Steps\"].head()"
   ]
  },
  {
   "cell_type": "code",
   "execution_count": 49,
   "id": "53cdd280",
   "metadata": {
    "execution": {
     "iopub.execute_input": "2024-11-26T04:41:52.211830Z",
     "iopub.status.busy": "2024-11-26T04:41:52.211425Z",
     "iopub.status.idle": "2024-11-26T04:41:52.219247Z",
     "shell.execute_reply": "2024-11-26T04:41:52.218036Z"
    },
    "papermill": {
     "duration": 0.031471,
     "end_time": "2024-11-26T04:41:52.221590",
     "exception": false,
     "start_time": "2024-11-26T04:41:52.190119",
     "status": "completed"
    },
    "tags": []
   },
   "outputs": [
    {
     "data": {
      "text/plain": [
       "0    8\n",
       "1    7\n",
       "2    9\n",
       "3    5\n",
       "4    8\n",
       "Name: Sleep Quality, dtype: int64"
      ]
     },
     "execution_count": 49,
     "metadata": {},
     "output_type": "execute_result"
    }
   ],
   "source": [
    "df[\"Sleep Quality\"].head()"
   ]
  },
  {
   "cell_type": "code",
   "execution_count": 50,
   "id": "5425c4b5",
   "metadata": {
    "execution": {
     "iopub.execute_input": "2024-11-26T04:41:52.262937Z",
     "iopub.status.busy": "2024-11-26T04:41:52.262502Z",
     "iopub.status.idle": "2024-11-26T04:41:52.747774Z",
     "shell.execute_reply": "2024-11-26T04:41:52.746712Z"
    },
    "papermill": {
     "duration": 0.508279,
     "end_time": "2024-11-26T04:41:52.750116",
     "exception": false,
     "start_time": "2024-11-26T04:41:52.241837",
     "status": "completed"
    },
    "tags": []
   },
   "outputs": [
    {
     "data": {
      "text/plain": [
       "<Axes: xlabel='Daily Steps', ylabel='Sleep Quality'>"
      ]
     },
     "execution_count": 50,
     "metadata": {},
     "output_type": "execute_result"
    },
    {
     "data": {
      "image/png": "[encoded data removed]",
      "text/plain": [
       "<Figure size 1200x600 with 1 Axes>"
      ]
     },
     "metadata": {},
     "output_type": "display_data"
    }
   ],
   "source": [
    "plt.figure(figsize = (12,6))\n",
    "sns.barplot(x = \"Daily Steps\", y = \"Sleep Quality\", data = df)"
   ]
  },
  {
   "cell_type": "code",
   "execution_count": 51,
   "id": "c3a9640d",
   "metadata": {
    "execution": {
     "iopub.execute_input": "2024-11-26T04:41:52.792750Z",
     "iopub.status.busy": "2024-11-26T04:41:52.792337Z",
     "iopub.status.idle": "2024-11-26T04:41:52.805088Z",
     "shell.execute_reply": "2024-11-26T04:41:52.804029Z"
    },
    "papermill": {
     "duration": 0.036631,
     "end_time": "2024-11-26T04:41:52.807232",
     "exception": false,
     "start_time": "2024-11-26T04:41:52.770601",
     "status": "completed"
    },
    "tags": []
   },
   "outputs": [
    {
     "data": {
      "text/html": [
       "<style>#sk-container-id-4 {color: black;background-color: white;}#sk-container-id-4 pre{padding: 0;}#sk-container-id-4 div.sk-toggleable {background-color: white;}#sk-container-id-4 label.sk-toggleable__label {cursor: pointer;display: block;width: 100%;margin-bottom: 0;padding: 0.3em;box-sizing: border-box;text-align: center;}#sk-container-id-4 label.sk-toggleable__label-arrow:before {content: \"▸\";float: left;margin-right: 0.25em;color: #696969;}#sk-container-id-4 label.sk-toggleable__label-arrow:hover:before {color: black;}#sk-container-id-4 div.sk-estimator:hover label.sk-toggleable__label-arrow:before {color: black;}#sk-container-id-4 div.sk-toggleable__content {max-height: 0;max-width: 0;overflow: hidden;text-align: left;background-color: #f0f8ff;}#sk-container-id-4 div.sk-toggleable__content pre {margin: 0.2em;color: black;border-radius: 0.25em;background-color: #f0f8ff;}#sk-container-id-4 input.sk-toggleable__control:checked~div.sk-toggleable__content {max-height: 200px;max-width: 100%;overflow: auto;}#sk-container-id-4 input.sk-toggleable__control:checked~label.sk-toggleable__label-arrow:before {content: \"▾\";}#sk-container-id-4 div.sk-estimator input.sk-toggleable__control:checked~label.sk-toggleable__label {background-color: #d4ebff;}#sk-container-id-4 div.sk-label input.sk-toggleable__control:checked~label.sk-toggleable__label {background-color: #d4ebff;}#sk-container-id-4 input.sk-hidden--visually {border: 0;clip: rect(1px 1px 1px 1px);clip: rect(1px, 1px, 1px, 1px);height: 1px;margin: -1px;overflow: hidden;padding: 0;position: absolute;width: 1px;}#sk-container-id-4 div.sk-estimator {font-family: monospace;background-color: #f0f8ff;border: 1px dotted black;border-radius: 0.25em;box-sizing: border-box;margin-bottom: 0.5em;}#sk-container-id-4 div.sk-estimator:hover {background-color: #d4ebff;}#sk-container-id-4 div.sk-parallel-item::after {content: \"\";width: 100%;border-bottom: 1px solid gray;flex-grow: 1;}#sk-container-id-4 div.sk-label:hover label.sk-toggleable__label {background-color: #d4ebff;}#sk-container-id-4 div.sk-serial::before {content: \"\";position: absolute;border-left: 1px solid gray;box-sizing: border-box;top: 0;bottom: 0;left: 50%;z-index: 0;}#sk-container-id-4 div.sk-serial {display: flex;flex-direction: column;align-items: center;background-color: white;padding-right: 0.2em;padding-left: 0.2em;position: relative;}#sk-container-id-4 div.sk-item {position: relative;z-index: 1;}#sk-container-id-4 div.sk-parallel {display: flex;align-items: stretch;justify-content: center;background-color: white;position: relative;}#sk-container-id-4 div.sk-item::before, #sk-container-id-4 div.sk-parallel-item::before {content: \"\";position: absolute;border-left: 1px solid gray;box-sizing: border-box;top: 0;bottom: 0;left: 50%;z-index: -1;}#sk-container-id-4 div.sk-parallel-item {display: flex;flex-direction: column;z-index: 1;position: relative;background-color: white;}#sk-container-id-4 div.sk-parallel-item:first-child::after {align-self: flex-end;width: 50%;}#sk-container-id-4 div.sk-parallel-item:last-child::after {align-self: flex-start;width: 50%;}#sk-container-id-4 div.sk-parallel-item:only-child::after {width: 0;}#sk-container-id-4 div.sk-dashed-wrapped {border: 1px dashed gray;margin: 0 0.4em 0.5em 0.4em;box-sizing: border-box;padding-bottom: 0.4em;background-color: white;}#sk-container-id-4 div.sk-label label {font-family: monospace;font-weight: bold;display: inline-block;line-height: 1.2em;}#sk-container-id-4 div.sk-label-container {text-align: center;}#sk-container-id-4 div.sk-container {/* jupyter's `normalize.less` sets `[hidden] { display: none; }` but bootstrap.min.css set `[hidden] { display: none !important; }` so we also need the `!important` here to be able to override the default hidden behavior on the sphinx rendered scikit-learn.org. See: https://github.com/scikit-learn/scikit-learn/issues/21755 */display: inline-block !important;position: relative;}#sk-container-id-4 div.sk-text-repr-fallback {display: none;}</style><div id=\"sk-container-id-4\" class=\"sk-top-container\"><div class=\"sk-text-repr-fallback\"><pre>LinearRegression()</pre><b>In a Jupyter environment, please rerun this cell to show the HTML representation or trust the notebook. <br />On GitHub, the HTML representation is unable to render, please try loading this page with nbviewer.org.</b></div><div class=\"sk-container\" hidden><div class=\"sk-item\"><div class=\"sk-estimator sk-toggleable\"><input class=\"sk-toggleable__control sk-hidden--visually\" id=\"sk-estimator-id-4\" type=\"checkbox\" checked><label for=\"sk-estimator-id-4\" class=\"sk-toggleable__label sk-toggleable__label-arrow\">LinearRegression</label><div class=\"sk-toggleable__content\"><pre>LinearRegression()</pre></div></div></div></div></div>"
      ],
      "text/plain": [
       "LinearRegression()"
      ]
     },
     "execution_count": 51,
     "metadata": {},
     "output_type": "execute_result"
    }
   ],
   "source": [
    "X = df[[\"Daily Steps\"]]\n",
    "Y = df[[\"Sleep Quality\"]]\n",
    "\n",
    "model = LinearRegression()\n",
    "model.fit(X,Y)"
   ]
  },
  {
   "cell_type": "code",
   "execution_count": 52,
   "id": "6cd1aacb",
   "metadata": {
    "execution": {
     "iopub.execute_input": "2024-11-26T04:41:52.849254Z",
     "iopub.status.busy": "2024-11-26T04:41:52.848824Z",
     "iopub.status.idle": "2024-11-26T04:41:52.856027Z",
     "shell.execute_reply": "2024-11-26T04:41:52.854932Z"
    },
    "papermill": {
     "duration": 0.030534,
     "end_time": "2024-11-26T04:41:52.858113",
     "exception": false,
     "start_time": "2024-11-26T04:41:52.827579",
     "status": "completed"
    },
    "tags": []
   },
   "outputs": [
    {
     "data": {
      "text/plain": [
       "array([2.37012829])"
      ]
     },
     "execution_count": 52,
     "metadata": {},
     "output_type": "execute_result"
    }
   ],
   "source": [
    "model.intercept_"
   ]
  },
  {
   "cell_type": "code",
   "execution_count": 53,
   "id": "a6f90134",
   "metadata": {
    "execution": {
     "iopub.execute_input": "2024-11-26T04:41:52.900899Z",
     "iopub.status.busy": "2024-11-26T04:41:52.900464Z",
     "iopub.status.idle": "2024-11-26T04:41:52.908743Z",
     "shell.execute_reply": "2024-11-26T04:41:52.907543Z"
    },
    "papermill": {
     "duration": 0.032715,
     "end_time": "2024-11-26T04:41:52.911195",
     "exception": false,
     "start_time": "2024-11-26T04:41:52.878480",
     "status": "completed"
    },
    "tags": []
   },
   "outputs": [
    {
     "data": {
      "text/plain": [
       "array([[0.00067787]])"
      ]
     },
     "execution_count": 53,
     "metadata": {},
     "output_type": "execute_result"
    }
   ],
   "source": [
    "model.coef_"
   ]
  },
  {
   "cell_type": "code",
   "execution_count": 54,
   "id": "9fe03c52",
   "metadata": {
    "execution": {
     "iopub.execute_input": "2024-11-26T04:41:52.954077Z",
     "iopub.status.busy": "2024-11-26T04:41:52.953679Z",
     "iopub.status.idle": "2024-11-26T04:41:53.296457Z",
     "shell.execute_reply": "2024-11-26T04:41:53.295377Z"
    },
    "papermill": {
     "duration": 0.366814,
     "end_time": "2024-11-26T04:41:53.298748",
     "exception": false,
     "start_time": "2024-11-26T04:41:52.931934",
     "status": "completed"
    },
    "tags": []
   },
   "outputs": [
    {
     "data": {
      "image/png": "[encoded data removed]",
      "text/plain": [
       "<Figure size 1200x600 with 1 Axes>"
      ]
     },
     "metadata": {},
     "output_type": "display_data"
    }
   ],
   "source": [
    "plt.figure(figsize = (12,6))\n",
    "sns.scatterplot(x = \"Daily Steps\", y = \"Sleep Quality\", data = df, label = \"Actual data\")\n",
    "plt.plot(df['Daily Steps'], model.predict(X), color=\"red\", label=\"Predicted data\")\n",
    "\n",
    "\n",
    "plt.title(\"Predicted data\")\n",
    "plt.xlabel(\"Daily Steps\")\n",
    "plt.ylabel(\"Sleep Quality\")\n",
    "plt.legend()\n",
    "plt.show()"
   ]
  },
  {
   "cell_type": "code",
   "execution_count": null,
   "id": "a4b1624e",
   "metadata": {
    "papermill": {
     "duration": 0.020962,
     "end_time": "2024-11-26T04:41:53.341450",
     "exception": false,
     "start_time": "2024-11-26T04:41:53.320488",
     "status": "completed"
    },
    "tags": []
   },
   "outputs": [],
   "source": []
  }
 ],
 "metadata": {
  "kaggle": {
   "accelerator": "none",
   "dataSources": [
    {
     "datasetId": 5670196,
     "sourceId": 9353653,
     "sourceType": "datasetVersion"
    }
   ],
   "dockerImageVersionId": 30786,
   "isGpuEnabled": false,
   "isInternetEnabled": false,
   "language": "python",
   "sourceType": "notebook"
  },
  "kernelspec": {
   "display_name": "Python 3",
   "language": "python",
   "name": "python3"
  },
  "language_info": {
   "codemirror_mode": {
    "name": "ipython",
    "version": 3
   },
   "file_extension": ".py",
   "mimetype": "text/x-python",
   "name": "python",
   "nbconvert_exporter": "python",
   "pygments_lexer": "ipython3",
   "version": "3.10.14"
  },
  "papermill": {
   "default_parameters": {},
   "duration": 14.376537,
   "end_time": "2024-11-26T04:41:54.085177",
   "environment_variables": {},
   "exception": null,
   "input_path": "__notebook__.ipynb",
   "output_path": "__notebook__.ipynb",
   "parameters": {},
   "start_time": "2024-11-26T04:41:39.708640",
   "version": "2.6.0"
  }
 },
 "nbformat": 4,
 "nbformat_minor": 5
}
